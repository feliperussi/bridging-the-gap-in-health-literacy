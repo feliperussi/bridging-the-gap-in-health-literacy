{
 "cells": [
  {
   "cell_type": "markdown",
   "metadata": {},
   "source": [
    "# Extracting Medical Essay Fragments from Clinical Trials API\n",
    "\n",
    "This notebook demonstrates how to request and retrieve fragments of medical essays from the Clinical Trials API. The goal is to automate the extraction of relevant medical text fragments for further analysis or processing."
   ]
  },
  {
   "cell_type": "code",
   "execution_count": 1,
   "metadata": {},
   "outputs": [],
   "source": [
    "import numpy as np\n",
    "import os\n",
    "import requests\n",
    "import json"
   ]
  },
  {
   "cell_type": "markdown",
   "metadata": {},
   "source": [
    "## Fetching Clinical Trials Data\n",
    "\n",
    "This section involves defining a function, `get_trials(expr)`, to fetch data from the Clinical Trials API. The function:\n",
    "\n",
    "- **Builds the URL**: Incorporates the search expression (`expr`) into the API endpoint.\n",
    "- **Makes the Request**: Uses the `requests` library to send an HTTP GET request to fetch the data.\n",
    "- **Processes the Response**: If the request is successful, the JSON response is parsed and returned. If not, the function returns `None`."
   ]
  },
  {
   "cell_type": "code",
   "execution_count": 5,
   "metadata": {},
   "outputs": [],
   "source": [
    "# Function to fetch clinical trials data based on a given search expression\n",
    "def get_trials(expr):\n",
    "    # Build the URL using the search expression\n",
    "    base_url = \"https://clinicaltrials.gov/api/query/study_fields?expr={EXPR}&fields=NCTId&min_rnk=1&max_rnk=200&fmt=json\"\n",
    "    url = base_url.format(EXPR=expr)\n",
    "    \n",
    "    # Send a GET request to the API\n",
    "    response = requests.get(url)\n",
    "    \n",
    "    # Check if the request was successful\n",
    "    if response.status_code == 200:\n",
    "        # Parse and return the JSON response\n",
    "        result = response.json()\n",
    "        return result\n",
    "    else:\n",
    "        # Return None if the request failed\n",
    "        return None"
   ]
  },
  {
   "cell_type": "code",
   "execution_count": 9,
   "metadata": {},
   "outputs": [],
   "source": [
    "covid = get_trials(\"covid\")['StudyFieldsResponse']['StudyFields']"
   ]
  },
  {
   "cell_type": "code",
   "execution_count": 12,
   "metadata": {},
   "outputs": [],
   "source": [
    "ncts = []\n",
    "covid = get_trials(\"covid\")['StudyFieldsResponse']['StudyFields']\n",
    "for i in range(len(covid)):\n",
    "    ncts.append(covid[i]['NCTId'][0])"
   ]
  },
  {
   "cell_type": "code",
   "execution_count": 18,
   "metadata": {},
   "outputs": [],
   "source": [
    "heart_attact = get_trials(\"heart+attack\")['StudyFieldsResponse']['StudyFields']\n",
    "for i in range(len(heart_attact)):\n",
    "    ncts.append(heart_attact[i]['NCTId'][0])"
   ]
  },
  {
   "cell_type": "code",
   "execution_count": 19,
   "metadata": {},
   "outputs": [],
   "source": [
    "cancer = get_trials(\"cancer\")['StudyFieldsResponse']['StudyFields']\n",
    "for i in range(len(cancer)):\n",
    "    ncts.append(cancer[i]['NCTId'][0])"
   ]
  },
  {
   "cell_type": "code",
   "execution_count": 20,
   "metadata": {},
   "outputs": [],
   "source": [
    "# REquest from ClinicalTrials.gov/api/query/study_fields?expr={NCT}&fields=NCTId,Condition,BriefTitle&fmt=json\n",
    "def get_clinical_trials(nct_id):\n",
    "    \"\"\"\n",
    "    Gets the clinical trials for a given NCT ID.\n",
    "\n",
    "    Parameters:\n",
    "        nct_id (str): The NCT ID of the clinical trial.\n",
    "\n",
    "    Returns:\n",
    "        dict or None: The clinical trial result as a dictionary if the response status code is 200,\n",
    "        otherwise None.\n",
    "    \"\"\"\n",
    "    base_url = \"https://clinicaltrials.gov/api/query/study_fields?expr={NCT}&fields=NCTId,BriefTitle,BriefSummary,BaselineGroupDescription,OutcomeMeasureDescription&fmt=json\"\n",
    "    url = base_url.format(NCT=nct_id)\n",
    "    response = requests.get(url)\n",
    "    if response.status_code == 200:\n",
    "        result = response.json()\n",
    "        return result\n",
    "    else:\n",
    "        return None\n",
    "    "
   ]
  },
  {
   "cell_type": "code",
   "execution_count": 21,
   "metadata": {},
   "outputs": [],
   "source": [
    "# Save in no-plain folder as txt each section\n",
    "def save_clinical_trials(nct_id):\n",
    "    \"\"\"\n",
    "    Gets the clinical trials for a given NCT ID.\n",
    "\n",
    "    Parameters:\n",
    "        nct_id (str): The NCT ID of the clinical trial.\n",
    "\n",
    "    Returns:\n",
    "        dict or None: The clinical trial result as a dictionary if the response status code is 200,\n",
    "        otherwise None.\n",
    "    \"\"\"\n",
    "    base_url = \"https://clinicaltrials.gov/api/query/study_fields?expr={NCT}&fields=NCTId,BriefTitle,BriefSummary,BaselineGroupDescription,OutcomeMeasureDescription&fmt=json\"\n",
    "    url = base_url.format(NCT=nct_id)\n",
    "    response = requests.get(url)\n",
    "    if response.status_code == 200:\n",
    "        result = response.json()\n",
    "        return result\n",
    "    else:\n",
    "        return None\n"
   ]
  },
  {
   "cell_type": "code",
   "execution_count": 22,
   "metadata": {},
   "outputs": [],
   "source": [
    "def save_text(text, filename):\n",
    "    \"\"\"\n",
    "    Saves the given text to a file with the given filename.\n",
    "\n",
    "    Parameters:\n",
    "        text (str): The text to be saved.\n",
    "        filename (str): The name of the file to save the text to.\n",
    "    \"\"\"\n",
    "    with open(os.path.join(os.getcwd(), filename), 'w', encoding='utf-8') as file:\n",
    "        file.write(text)"
   ]
  },
  {
   "cell_type": "code",
   "execution_count": 3,
   "metadata": {},
   "outputs": [
    {
     "name": "stdout",
     "output_type": "stream",
     "text": [
      "['NCT00585195', 'NCT00761267', 'NCT00925002', 'NCT00935012', 'NCT00952380', 'NCT00974311', 'NCT01212991', 'NCT01463306', 'NCT01470612', 'NCT01543087', 'NCT01546038', 'NCT01557244', 'NCT01639001', 'NCT01664923', 'NCT01720524', 'NCT01747915', 'NCT01877668', 'NCT01900899', 'NCT01920061', 'NCT01934140', 'NCT01939158', 'NCT01945021', 'NCT01945775', 'NCT01962207', 'NCT01964716', 'NCT01970865', 'NCT01989676', 'NCT01994889', 'NCT02003924', 'NCT02034916', 'NCT02072824', 'NCT02092467', 'NCT02100514', 'NCT02117570', 'NCT02130557', 'NCT02133742', 'NCT02135029', 'NCT02187003', 'NCT02187744', 'NCT02213263', 'NCT02222922', 'NCT02226172', 'NCT02297438', 'NCT02310763', 'NCT02364999', 'NCT02367456', 'NCT02382796', 'NCT02384382', 'NCT02458287', 'NCT02475733', 'NCT02480153', 'NCT02484092', 'NCT02493751', 'NCT02497781', 'NCT02504294', 'NCT02528188', 'NCT02528253', 'NCT02534935', 'NCT02561195', 'NCT02573259', 'NCT02592434', 'NCT02600923', 'NCT02609828', 'NCT02650193', 'NCT02697773', 'NCT02709486', 'NCT02718417', 'NCT02840721', 'NCT02847650', 'NCT02880371', 'NCT02907619', 'NCT02921919', 'NCT02951156', 'NCT02952586', 'NCT02958865', 'NCT02969018', 'NCT02969044', 'NCT02974855', 'NCT02974868', 'NCT02996500', 'NCT03148795', 'NCT03233529', 'NCT03269695', 'NCT03271047', 'NCT03281304', 'NCT03284723', 'NCT03313037', 'NCT03349060', 'NCT03363321', 'NCT03416179', 'NCT03499353', 'NCT03502616', 'NCT03529773', 'NCT03539601', 'NCT03550313', 'NCT03571607', 'NCT03572062', 'NCT03575871', 'NCT03627767', 'NCT03637491', 'NCT03674827', 'NCT03715829', 'NCT03727750', 'NCT03732807', 'NCT03760146', 'NCT03796676', 'NCT03828617', 'NCT03831880', 'NCT03835975', 'NCT03865446', 'NCT03895372', 'NCT03903822', 'NCT03963401', 'NCT03969719', 'NCT03985293', 'NCT04071158', 'NCT04091087', 'NCT04193436', 'NCT04258995', 'NCT04305587', 'NCT04360187', 'NCT04516291', 'NCT04526574', 'NCT04621227', 'NCT04664153', 'NCT04713553', 'NCT04863417', 'NCT04866225', 'NCT04903093']\n"
     ]
    }
   ],
   "source": [
    "texts_folder = \"full_texts\"\n",
    "ncts = []\n",
    "\n",
    "for filename in os.listdir(texts_folder):\n",
    "    if filename.endswith(\".txt\"):\n",
    "        nct = filename.split(\"_\")[0].split(\".\")[0]\n",
    "        ncts.append(nct)\n",
    "\n",
    "print(ncts)\n"
   ]
  },
  {
   "cell_type": "code",
   "execution_count": 27,
   "metadata": {},
   "outputs": [],
   "source": [
    "for nct in ncts:\n",
    "    trial = get_clinical_trials(nct)\n",
    "    if trial:\n",
    "        title = trial['StudyFieldsResponse']['StudyFields'][0]['BriefTitle'][0]\n",
    "        summary = trial['StudyFieldsResponse']['StudyFields'][0]['BriefSummary'][0]\n",
    "        baselines = trial['StudyFieldsResponse']['StudyFields'][0]['BaselineGroupDescription']\n",
    "        outcomes = trial['StudyFieldsResponse']['StudyFields'][0]['OutcomeMeasureDescription']\n",
    "        save_text(f\"{title}\\n{summary}\", f\"ncts/{nct}_summary.txt\")\n",
    "        i = 0\n",
    "        for i, baseline in enumerate(baselines):\n",
    "            # if have more than 100 words in baseline\n",
    "            if len(baseline.split()) > 100:\n",
    "                save_text(f\"{title}\\n{baseline}\", f\"ncts/{nct}_baseline_{i}.txt\")\n",
    "        for i, outcome in  enumerate(outcomes):\n",
    "            # if have more than 100 words in outcome\n",
    "            if len(outcome.split()) > 100:\n",
    "                save_text(f\"{title}\\n{outcome}\", f\"ncts/{nct}_outcome_{i}.txt\")"
   ]
  }
 ],
 "metadata": {
  "kernelspec": {
   "display_name": "Python 3",
   "language": "python",
   "name": "python3"
  },
  "language_info": {
   "codemirror_mode": {
    "name": "ipython",
    "version": 3
   },
   "file_extension": ".py",
   "mimetype": "text/x-python",
   "name": "python",
   "nbconvert_exporter": "python",
   "pygments_lexer": "ipython3",
   "version": "3.10.9"
  },
  "orig_nbformat": 4
 },
 "nbformat": 4,
 "nbformat_minor": 2
}
