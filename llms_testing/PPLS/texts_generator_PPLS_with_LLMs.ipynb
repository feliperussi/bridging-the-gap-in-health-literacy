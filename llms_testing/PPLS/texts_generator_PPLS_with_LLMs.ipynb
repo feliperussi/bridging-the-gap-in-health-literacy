{
 "cells": [
  {
   "cell_type": "code",
   "execution_count": 2,
   "metadata": {},
   "outputs": [
    {
     "name": "stderr",
     "output_type": "stream",
     "text": [
      "/Library/Frameworks/Python.framework/Versions/3.10/lib/python3.10/site-packages/tqdm/auto.py:21: TqdmWarning: IProgress not found. Please update jupyter and ipywidgets. See https://ipywidgets.readthedocs.io/en/stable/user_install.html\n",
      "  from .autonotebook import tqdm as notebook_tqdm\n"
     ]
    }
   ],
   "source": [
    "import requests\n",
    "import os\n",
    "import pandas as pd\n",
    "import numpy as np\n",
    "import seaborn as sns\n",
    "import matplotlib.pyplot as plt\n",
    "from sklearn.metrics import accuracy_score, precision_score, recall_score, f1_score, confusion_matrix\n",
    "from evaluate import load"
   ]
  },
  {
   "cell_type": "code",
   "execution_count": 8,
   "metadata": {},
   "outputs": [],
   "source": [
    "link = \"http://localhost:8000/comment/predict/model_gb\""
   ]
  },
  {
   "cell_type": "code",
   "execution_count": 6,
   "metadata": {},
   "outputs": [],
   "source": [
    "folder_path=\"C:/Users/felip/Documents/Tesis/datos_pruebas/clean_texts/med\"\n",
    "# Get all the texts in the folder\n",
    "files = os.listdir(folder_path)\n",
    "texts_med = []\n",
    "for file in files:\n",
    "    with open(folder_path + \"/\" + file, 'r', encoding=\"utf-8\") as f:\n",
    "        texts_med.append(f.read())"
   ]
  },
  {
   "cell_type": "code",
   "execution_count": 8,
   "metadata": {},
   "outputs": [],
   "source": [
    "folder_path=\"C:/Users/felip/Documents/Tesis/datos_pruebas/clean_texts/alx\"\n",
    "# Get all the texts in the folder\n",
    "files = os.listdir(folder_path)\n",
    "texts_alx = []\n",
    "for file in files:\n",
    "    with open(folder_path + \"/\" + file, 'r', encoding=\"utf-8\") as f:\n",
    "        texts_alx.append(f.read())"
   ]
  },
  {
   "cell_type": "code",
   "execution_count": 10,
   "metadata": {},
   "outputs": [],
   "source": [
    "# GEt file names\n",
    "responses_alx_med_gb = []\n",
    "responses_alx_med_rf = []\n",
    "responses_alx_med_emd = []\n",
    "texts_alx_med = texts_med + texts_alx\n",
    "for text in texts_alx_med:\n",
    "    data = {'text': text}\n",
    "    response_gb = requests.post(\"http://localhost:8000/comment/predict/model_gb\", json=data)\n",
    "    response_rf = requests.post(\"http://localhost:8000/comment/predict/model_rf\", json=data)\n",
    "    response_emd = requests.post(\"http://localhost:8000/comment/predict/model_emd\", json=data)\n",
    "    responses_alx_med_gb.append(response_gb.json())\n",
    "    responses_alx_med_rf.append(response_rf.json())\n",
    "    responses_alx_med_emd.append(response_emd.json())"
   ]
  },
  {
   "cell_type": "code",
   "execution_count": null,
   "metadata": {},
   "outputs": [],
   "source": [
    "import json\n",
    "\n",
    "with open('responses_alx_med_gb.json', 'w') as f:\n",
    "    json.dump(responses_alx_med_gb, f)\n",
    "with open('responses_alx_med_rf.json', 'w') as f:\n",
    "    json.dump(responses_alx_med_rf, f)\n",
    "with open('responses_alx_med_emd.json', 'w') as f:\n",
    "    json.dump(responses_alx_med_emd, f)\n"
   ]
  },
  {
   "cell_type": "code",
   "execution_count": 4,
   "metadata": {},
   "outputs": [
    {
     "data": {
      "text/html": [
       "<div>\n",
       "<style scoped>\n",
       "    .dataframe tbody tr th:only-of-type {\n",
       "        vertical-align: middle;\n",
       "    }\n",
       "\n",
       "    .dataframe tbody tr th {\n",
       "        vertical-align: top;\n",
       "    }\n",
       "\n",
       "    .dataframe thead th {\n",
       "        text-align: right;\n",
       "    }\n",
       "</style>\n",
       "<table border=\"1\" class=\"dataframe\">\n",
       "  <thead>\n",
       "    <tr style=\"text-align: right;\">\n",
       "      <th></th>\n",
       "      <th>StudyID</th>\n",
       "      <th>Text</th>\n",
       "      <th>PL</th>\n",
       "      <th>Count Words</th>\n",
       "      <th>Min Count</th>\n",
       "      <th>GPTTest</th>\n",
       "    </tr>\n",
       "  </thead>\n",
       "  <tbody>\n",
       "    <tr>\n",
       "      <th>0</th>\n",
       "      <td>NCT00310388</td>\n",
       "      <td>Title: A Multicenter, Open-Label, Long-Term, S...</td>\n",
       "      <td>0</td>\n",
       "      <td>4470</td>\n",
       "      <td>Ok</td>\n",
       "      <td>NaN</td>\n",
       "    </tr>\n",
       "    <tr>\n",
       "      <th>1</th>\n",
       "      <td>NCT01704287</td>\n",
       "      <td>Title: A Phase III Randomized Trial of MK-3475...</td>\n",
       "      <td>0</td>\n",
       "      <td>3981</td>\n",
       "      <td>Ok</td>\n",
       "      <td>NaN</td>\n",
       "    </tr>\n",
       "    <tr>\n",
       "      <th>2</th>\n",
       "      <td>NCT01704287</td>\n",
       "      <td>Indication of the Study: Head and Neck Cancer,...</td>\n",
       "      <td>0</td>\n",
       "      <td>1560</td>\n",
       "      <td>Ok</td>\n",
       "      <td>NaN</td>\n",
       "    </tr>\n",
       "    <tr>\n",
       "      <th>3</th>\n",
       "      <td>NCT01704287</td>\n",
       "      <td>Study Rationale: Head and neck cancer describe...</td>\n",
       "      <td>0</td>\n",
       "      <td>1225</td>\n",
       "      <td>Ok</td>\n",
       "      <td>NaN</td>\n",
       "    </tr>\n",
       "    <tr>\n",
       "      <th>4</th>\n",
       "      <td>NCT02054806</td>\n",
       "      <td>Title: A Phase 3 Clinical Trial of Pembrolizum...</td>\n",
       "      <td>0</td>\n",
       "      <td>5480</td>\n",
       "      <td>Ok</td>\n",
       "      <td>NaN</td>\n",
       "    </tr>\n",
       "    <tr>\n",
       "      <th>...</th>\n",
       "      <td>...</td>\n",
       "      <td>...</td>\n",
       "      <td>...</td>\n",
       "      <td>...</td>\n",
       "      <td>...</td>\n",
       "      <td>...</td>\n",
       "    </tr>\n",
       "    <tr>\n",
       "      <th>109</th>\n",
       "      <td>NCT03557281</td>\n",
       "      <td>Title: A Phase IIa Open-label Trial to Investi...</td>\n",
       "      <td>0</td>\n",
       "      <td>622</td>\n",
       "      <td>Ok</td>\n",
       "      <td>NaN</td>\n",
       "    </tr>\n",
       "    <tr>\n",
       "      <th>110</th>\n",
       "      <td>NCT03557281</td>\n",
       "      <td>Indication of the Study: Tuberculosis, Inclusi...</td>\n",
       "      <td>0</td>\n",
       "      <td>632</td>\n",
       "      <td>Ok</td>\n",
       "      <td>NaN</td>\n",
       "    </tr>\n",
       "    <tr>\n",
       "      <th>111</th>\n",
       "      <td>NCT03557281</td>\n",
       "      <td>Study Rationale: This trial seeks to establish...</td>\n",
       "      <td>0</td>\n",
       "      <td>947</td>\n",
       "      <td>Ok</td>\n",
       "      <td>NaN</td>\n",
       "    </tr>\n",
       "    <tr>\n",
       "      <th>112</th>\n",
       "      <td>NCT03557281</td>\n",
       "      <td>Title: A Phase IIa Open-label Trial to Investi...</td>\n",
       "      <td>0</td>\n",
       "      <td>2199</td>\n",
       "      <td>Ok</td>\n",
       "      <td>Y</td>\n",
       "    </tr>\n",
       "    <tr>\n",
       "      <th>113</th>\n",
       "      <td>NCT03557281</td>\n",
       "      <td>An early bactericidal activity, safety and tol...</td>\n",
       "      <td>1</td>\n",
       "      <td>595</td>\n",
       "      <td>Ok</td>\n",
       "      <td>Y</td>\n",
       "    </tr>\n",
       "  </tbody>\n",
       "</table>\n",
       "<p>114 rows × 6 columns</p>\n",
       "</div>"
      ],
      "text/plain": [
       "        StudyID                                                Text  PL  \\\n",
       "0    NCT00310388  Title: A Multicenter, Open-Label, Long-Term, S...   0   \n",
       "1    NCT01704287  Title: A Phase III Randomized Trial of MK-3475...   0   \n",
       "2    NCT01704287  Indication of the Study: Head and Neck Cancer,...   0   \n",
       "3    NCT01704287  Study Rationale: Head and neck cancer describe...   0   \n",
       "4    NCT02054806  Title: A Phase 3 Clinical Trial of Pembrolizum...   0   \n",
       "..           ...                                                ...  ..   \n",
       "109  NCT03557281  Title: A Phase IIa Open-label Trial to Investi...   0   \n",
       "110  NCT03557281  Indication of the Study: Tuberculosis, Inclusi...   0   \n",
       "111  NCT03557281  Study Rationale: This trial seeks to establish...   0   \n",
       "112  NCT03557281  Title: A Phase IIa Open-label Trial to Investi...   0   \n",
       "113  NCT03557281  An early bactericidal activity, safety and tol...   1   \n",
       "\n",
       "     Count Words Min Count GPTTest  \n",
       "0           4470        Ok     NaN  \n",
       "1           3981        Ok     NaN  \n",
       "2           1560        Ok     NaN  \n",
       "3           1225        Ok     NaN  \n",
       "4           5480        Ok     NaN  \n",
       "..           ...       ...     ...  \n",
       "109          622        Ok     NaN  \n",
       "110          632        Ok     NaN  \n",
       "111          947        Ok     NaN  \n",
       "112         2199        Ok       Y  \n",
       "113          595        Ok       Y  \n",
       "\n",
       "[114 rows x 6 columns]"
      ]
     },
     "execution_count": 4,
     "metadata": {},
     "output_type": "execute_result"
    }
   ],
   "source": [
    "# Read C:/Users/felip/Documents/Tesis/pipeline/Clinical Trials_Test_Dataset.xlsx\n",
    "\n",
    "df = pd.read_excel(\"Clinical Trials_Test_Dataset (2).xlsx\", sheet_name=\"Text Sample\")\n",
    "df"
   ]
  },
  {
   "cell_type": "code",
   "execution_count": 5,
   "metadata": {},
   "outputs": [],
   "source": [
    "df = df[['Text', 'PL', 'GPTTest']]\n",
    "df = df.rename(columns={'Text': 'text', 'PL': 'label'})"
   ]
  },
  {
   "cell_type": "code",
   "execution_count": 6,
   "metadata": {},
   "outputs": [
    {
     "data": {
      "text/html": [
       "<div>\n",
       "<style scoped>\n",
       "    .dataframe tbody tr th:only-of-type {\n",
       "        vertical-align: middle;\n",
       "    }\n",
       "\n",
       "    .dataframe tbody tr th {\n",
       "        vertical-align: top;\n",
       "    }\n",
       "\n",
       "    .dataframe thead th {\n",
       "        text-align: right;\n",
       "    }\n",
       "</style>\n",
       "<table border=\"1\" class=\"dataframe\">\n",
       "  <thead>\n",
       "    <tr style=\"text-align: right;\">\n",
       "      <th></th>\n",
       "      <th>text</th>\n",
       "      <th>label</th>\n",
       "      <th>GPTTest</th>\n",
       "    </tr>\n",
       "  </thead>\n",
       "  <tbody>\n",
       "    <tr>\n",
       "      <th>0</th>\n",
       "      <td>Title: A Multicenter, Open-Label, Long-Term, S...</td>\n",
       "      <td>0</td>\n",
       "      <td>NaN</td>\n",
       "    </tr>\n",
       "    <tr>\n",
       "      <th>1</th>\n",
       "      <td>Title: A Phase III Randomized Trial of MK-3475...</td>\n",
       "      <td>0</td>\n",
       "      <td>NaN</td>\n",
       "    </tr>\n",
       "    <tr>\n",
       "      <th>2</th>\n",
       "      <td>Indication of the Study: Head and Neck Cancer,...</td>\n",
       "      <td>0</td>\n",
       "      <td>NaN</td>\n",
       "    </tr>\n",
       "    <tr>\n",
       "      <th>3</th>\n",
       "      <td>Study Rationale: Head and neck cancer describe...</td>\n",
       "      <td>0</td>\n",
       "      <td>NaN</td>\n",
       "    </tr>\n",
       "    <tr>\n",
       "      <th>4</th>\n",
       "      <td>Title: A Phase 3 Clinical Trial of Pembrolizum...</td>\n",
       "      <td>0</td>\n",
       "      <td>NaN</td>\n",
       "    </tr>\n",
       "    <tr>\n",
       "      <th>...</th>\n",
       "      <td>...</td>\n",
       "      <td>...</td>\n",
       "      <td>...</td>\n",
       "    </tr>\n",
       "    <tr>\n",
       "      <th>109</th>\n",
       "      <td>Title: A Phase IIa Open-label Trial to Investi...</td>\n",
       "      <td>0</td>\n",
       "      <td>NaN</td>\n",
       "    </tr>\n",
       "    <tr>\n",
       "      <th>110</th>\n",
       "      <td>Indication of the Study: Tuberculosis, Inclusi...</td>\n",
       "      <td>0</td>\n",
       "      <td>NaN</td>\n",
       "    </tr>\n",
       "    <tr>\n",
       "      <th>111</th>\n",
       "      <td>Study Rationale: This trial seeks to establish...</td>\n",
       "      <td>0</td>\n",
       "      <td>NaN</td>\n",
       "    </tr>\n",
       "    <tr>\n",
       "      <th>112</th>\n",
       "      <td>Title: A Phase IIa Open-label Trial to Investi...</td>\n",
       "      <td>0</td>\n",
       "      <td>Y</td>\n",
       "    </tr>\n",
       "    <tr>\n",
       "      <th>113</th>\n",
       "      <td>An early bactericidal activity, safety and tol...</td>\n",
       "      <td>1</td>\n",
       "      <td>Y</td>\n",
       "    </tr>\n",
       "  </tbody>\n",
       "</table>\n",
       "<p>114 rows × 3 columns</p>\n",
       "</div>"
      ],
      "text/plain": [
       "                                                  text  label GPTTest\n",
       "0    Title: A Multicenter, Open-Label, Long-Term, S...      0     NaN\n",
       "1    Title: A Phase III Randomized Trial of MK-3475...      0     NaN\n",
       "2    Indication of the Study: Head and Neck Cancer,...      0     NaN\n",
       "3    Study Rationale: Head and neck cancer describe...      0     NaN\n",
       "4    Title: A Phase 3 Clinical Trial of Pembrolizum...      0     NaN\n",
       "..                                                 ...    ...     ...\n",
       "109  Title: A Phase IIa Open-label Trial to Investi...      0     NaN\n",
       "110  Indication of the Study: Tuberculosis, Inclusi...      0     NaN\n",
       "111  Study Rationale: This trial seeks to establish...      0     NaN\n",
       "112  Title: A Phase IIa Open-label Trial to Investi...      0       Y\n",
       "113  An early bactericidal activity, safety and tol...      1       Y\n",
       "\n",
       "[114 rows x 3 columns]"
      ]
     },
     "execution_count": 6,
     "metadata": {},
     "output_type": "execute_result"
    }
   ],
   "source": [
    "df"
   ]
  },
  {
   "cell_type": "code",
   "execution_count": 9,
   "metadata": {},
   "outputs": [
    {
     "name": "stdout",
     "output_type": "stream",
     "text": [
      "0\n",
      "0\n",
      "0\n",
      "0\n",
      "0\n",
      "0\n",
      "0\n",
      "0\n",
      "0\n",
      "0\n",
      "0\n",
      "0\n",
      "0\n",
      "0\n",
      "0\n",
      "0\n",
      "0\n",
      "1\n",
      "0\n",
      "0\n",
      "0\n",
      "0\n",
      "1\n",
      "0\n",
      "0\n",
      "0\n",
      "0\n",
      "0\n",
      "0\n",
      "0\n",
      "0\n",
      "0\n",
      "0\n",
      "0\n",
      "0\n",
      "0\n",
      "1\n",
      "1\n",
      "0\n",
      "0\n",
      "0\n",
      "0\n",
      "0\n",
      "0\n",
      "0\n",
      "0\n",
      "0\n",
      "0\n",
      "0\n",
      "0\n",
      "0\n",
      "0\n",
      "1\n",
      "0\n",
      "1\n",
      "0\n",
      "0\n",
      "0\n",
      "0\n",
      "0\n",
      "0\n",
      "0\n",
      "0\n",
      "0\n",
      "0\n",
      "0\n",
      "0\n",
      "0\n",
      "0\n",
      "0\n",
      "0\n",
      "0\n",
      "0\n",
      "0\n",
      "1\n",
      "0\n",
      "0\n",
      "1\n",
      "1\n",
      "0\n",
      "0\n",
      "0\n",
      "0\n",
      "0\n",
      "0\n",
      "0\n",
      "1\n",
      "0\n",
      "0\n",
      "0\n",
      "0\n",
      "0\n",
      "0\n",
      "0\n",
      "1\n",
      "0\n",
      "0\n",
      "0\n",
      "1\n",
      "1\n",
      "1\n",
      "0\n",
      "0\n",
      "0\n",
      "0\n",
      "0\n",
      "1\n",
      "0\n",
      "1\n",
      "0\n",
      "0\n",
      "0\n",
      "0\n",
      "1\n"
     ]
    }
   ],
   "source": [
    "# GEt file names\n",
    "responses = []\n",
    "for text in df['text']:\n",
    "    r = requests.post(link, json={\"text\": text})\n",
    "    responses.append(r.json())\n",
    "    print(r.json()['prediction'])"
   ]
  },
  {
   "cell_type": "code",
   "execution_count": 10,
   "metadata": {},
   "outputs": [
    {
     "data": {
      "text/plain": [
       "114"
      ]
     },
     "execution_count": 10,
     "metadata": {},
     "output_type": "execute_result"
    }
   ],
   "source": [
    "len(responses)"
   ]
  },
  {
   "cell_type": "code",
   "execution_count": 11,
   "metadata": {},
   "outputs": [],
   "source": [
    "true_labels = df['label'].tolist()"
   ]
  },
  {
   "cell_type": "code",
   "execution_count": 12,
   "metadata": {},
   "outputs": [
    {
     "data": {
      "text/plain": [
       "114"
      ]
     },
     "execution_count": 12,
     "metadata": {},
     "output_type": "execute_result"
    }
   ],
   "source": [
    "len(true_labels)"
   ]
  },
  {
   "cell_type": "code",
   "execution_count": 13,
   "metadata": {},
   "outputs": [],
   "source": [
    "predictions = []\n",
    "\n",
    "for i in range(len(responses)):\n",
    "    predictions.append(int(responses[i]['prediction']))"
   ]
  },
  {
   "cell_type": "code",
   "execution_count": 14,
   "metadata": {},
   "outputs": [
    {
     "data": {
      "text/plain": [
       "114"
      ]
     },
     "execution_count": 14,
     "metadata": {},
     "output_type": "execute_result"
    }
   ],
   "source": [
    "len(predictions)"
   ]
  },
  {
   "cell_type": "code",
   "execution_count": 15,
   "metadata": {},
   "outputs": [
    {
     "name": "stdout",
     "output_type": "stream",
     "text": [
      "Accuracy:  0.9649122807017544\n",
      "Precision:  0.7647058823529411\n",
      "Recall:  1.0\n",
      "F1:  0.8666666666666667\n"
     ]
    }
   ],
   "source": [
    "accuracy = accuracy_score(true_labels, predictions)\n",
    "precision = precision_score(true_labels, predictions)\n",
    "recall = recall_score(true_labels, predictions)\n",
    "f1 = f1_score(true_labels, predictions)\n",
    "\n",
    "print(\"Accuracy: \", accuracy)\n",
    "print(\"Precision: \", precision)\n",
    "print(\"Recall: \", recall)\n",
    "print(\"F1: \", f1)"
   ]
  },
  {
   "cell_type": "code",
   "execution_count": 16,
   "metadata": {},
   "outputs": [
    {
     "data": {
      "image/png": "[encoded data removed]",
      "text/plain": [
       "<Figure size 640x480 with 2 Axes>"
      ]
     },
     "metadata": {},
     "output_type": "display_data"
    }
   ],
   "source": [
    "# Get FP, FN, TP, TN\n",
    "cm = confusion_matrix(true_labels, predictions)\n",
    "sns.heatmap(cm, annot=True, fmt='g', xticklabels=['Negative', 'Positive'], yticklabels=['Negative', 'Positive'])\n",
    "# Show number of samples in each class\n",
    "plt.title('Confusion matrix')\n",
    "plt.xlabel('Predicted')\n",
    "plt.ylabel('True')\n",
    "plt.show()"
   ]
  },
  {
   "cell_type": "code",
   "execution_count": 17,
   "metadata": {},
   "outputs": [],
   "source": [
    "scores_no_plain = []\n",
    "scores_plain = []\n",
    "\n",
    "\n",
    "for i in range(len(responses)):\n",
    "    scores_no_plain.append(responses[i]['score_no_plain'])\n",
    "    scores_plain.append(responses[i]['score_plain'])"
   ]
  },
  {
   "cell_type": "code",
   "execution_count": 18,
   "metadata": {},
   "outputs": [],
   "source": [
    "import matplotlib.pyplot as plt\n",
    "\n",
    "def plot_row(top_features, scores_no_plain, scores_plain, n=10):\n",
    "    fig, ax = plt.subplots(figsize=(15, 5))\n",
    "    \n",
    "    width = 0.35\n",
    "    x = range(n)\n",
    "    \n",
    "    # Dividir los datos de los diccionarios en listas\n",
    "    scores_no_plain_values = [scores_no_plain[key] for key in top_features[:n]]\n",
    "    scores_plain_values = [scores_plain[key] for key in top_features[:n]]\n",
    "\n",
    "    ax.bar(x, scores_no_plain_values, width, label='No plain score', color='crimson')\n",
    "    ax.bar([i + width for i in x], scores_plain_values, width, label='Plain score', color='royalblue')\n",
    "    ax.set_xticks([i + width / 2 for i in x])\n",
    "    ax.set_xticklabels(top_features[:n], rotation=90)\n",
    "    ax.set_title(\"Comparison of scores\")\n",
    "    ax.legend()\n",
    "    \n",
    "    plt.show()"
   ]
  },
  {
   "cell_type": "code",
   "execution_count": 19,
   "metadata": {},
   "outputs": [],
   "source": [
    "# Get FP index\n",
    "FP = []\n",
    "for i in range(len(predictions)):\n",
    "    if predictions[i] == 1 and true_labels[i] == 0:\n",
    "        FP.append(i)"
   ]
  },
  {
   "cell_type": "code",
   "execution_count": 20,
   "metadata": {},
   "outputs": [
    {
     "data": {
      "text/plain": [
       "[36, 54, 77, 100]"
      ]
     },
     "execution_count": 20,
     "metadata": {},
     "output_type": "execute_result"
    }
   ],
   "source": [
    "FP"
   ]
  },
  {
   "cell_type": "code",
   "execution_count": 21,
   "metadata": {},
   "outputs": [
    {
     "data": {
      "image/png": "[encoded data removed]",
      "text/plain": [
       "<Figure size 1500x500 with 1 Axes>"
      ]
     },
     "metadata": {},
     "output_type": "display_data"
    }
   ],
   "source": [
    "i = 31\n",
    "plot_row(top_features=list(scores_no_plain[i].keys()), scores_no_plain=scores_no_plain[i], scores_plain=scores_plain[i], n=15)"
   ]
  },
  {
   "cell_type": "code",
   "execution_count": 23,
   "metadata": {},
   "outputs": [
    {
     "name": "stdout",
     "output_type": "stream",
     "text": [
      "0\n",
      "0\n",
      "0\n",
      "0\n",
      "0\n",
      "0\n",
      "0\n",
      "0\n",
      "0\n",
      "0\n",
      "0\n",
      "0\n",
      "0\n",
      "0\n",
      "0\n",
      "0\n",
      "0\n",
      "0\n",
      "0\n",
      "0\n",
      "0\n",
      "0\n",
      "0\n",
      "0\n",
      "0\n",
      "0\n",
      "0\n",
      "0\n",
      "0\n",
      "0\n",
      "1\n",
      "0\n",
      "0\n",
      "0\n",
      "0\n",
      "0\n",
      "0\n",
      "0\n",
      "0\n",
      "0\n",
      "0\n",
      "0\n",
      "0\n",
      "0\n",
      "0\n",
      "0\n",
      "1\n",
      "0\n",
      "0\n",
      "1\n",
      "0\n",
      "0\n",
      "0\n",
      "0\n",
      "0\n",
      "0\n",
      "0\n",
      "0\n",
      "0\n",
      "0\n",
      "0\n",
      "0\n",
      "0\n",
      "0\n",
      "1\n",
      "0\n",
      "1\n",
      "0\n",
      "0\n",
      "0\n",
      "0\n",
      "1\n",
      "1\n",
      "0\n",
      "0\n",
      "0\n",
      "1\n",
      "0\n",
      "0\n",
      "0\n",
      "1\n",
      "1\n",
      "1\n",
      "0\n",
      "0\n",
      "0\n",
      "1\n",
      "0\n",
      "0\n",
      "0\n",
      "1\n",
      "0\n",
      "0\n",
      "0\n",
      "1\n",
      "0\n",
      "0\n",
      "0\n",
      "1\n"
     ]
    }
   ],
   "source": [
    "responses_emd = []\n",
    "for text in df['text']:\n",
    "    r = requests.post(\"http://localhost:8000/comment/predict/model_emd\", json={\"text\": text})\n",
    "    responses_emd.append(r.json())\n",
    "    print(r.json()['prediction'])"
   ]
  },
  {
   "cell_type": "markdown",
   "metadata": {},
   "source": []
  },
  {
   "cell_type": "code",
   "execution_count": 22,
   "metadata": {},
   "outputs": [
    {
     "ename": "NameError",
     "evalue": "name 'responses_emd' is not defined",
     "output_type": "error",
     "traceback": [
      "\u001b[0;31m---------------------------------------------------------------------------\u001b[0m",
      "\u001b[0;31mNameError\u001b[0m                                 Traceback (most recent call last)",
      "Cell \u001b[0;32mIn[22], line 3\u001b[0m\n\u001b[1;32m      1\u001b[0m predictions_emd \u001b[38;5;241m=\u001b[39m []\n\u001b[0;32m----> 3\u001b[0m \u001b[38;5;28;01mfor\u001b[39;00m i \u001b[38;5;129;01min\u001b[39;00m \u001b[38;5;28mrange\u001b[39m(\u001b[38;5;28mlen\u001b[39m(\u001b[43mresponses_emd\u001b[49m)):\n\u001b[1;32m      4\u001b[0m     predictions_emd\u001b[38;5;241m.\u001b[39mappend(\u001b[38;5;28mint\u001b[39m(responses_emd[i][\u001b[38;5;124m'\u001b[39m\u001b[38;5;124mprediction\u001b[39m\u001b[38;5;124m'\u001b[39m]))\n",
      "\u001b[0;31mNameError\u001b[0m: name 'responses_emd' is not defined"
     ]
    }
   ],
   "source": [
    "predictions_emd = []\n",
    "\n",
    "for i in range(len(responses_emd)):\n",
    "    predictions_emd.append(int(responses_emd[i]['prediction']))\n"
   ]
  },
  {
   "cell_type": "code",
   "execution_count": 26,
   "metadata": {},
   "outputs": [
    {
     "data": {
      "text/plain": [
       "[0,\n",
       " 0,\n",
       " 0,\n",
       " 0,\n",
       " 0,\n",
       " 0,\n",
       " 0,\n",
       " 0,\n",
       " 0,\n",
       " 0,\n",
       " 0,\n",
       " 0,\n",
       " 0,\n",
       " 0,\n",
       " 0,\n",
       " 0,\n",
       " 0,\n",
       " 0,\n",
       " 0,\n",
       " 0,\n",
       " 0,\n",
       " 0,\n",
       " 0,\n",
       " 0,\n",
       " 0,\n",
       " 0,\n",
       " 0,\n",
       " 0,\n",
       " 0,\n",
       " 0,\n",
       " 1,\n",
       " 0,\n",
       " 0,\n",
       " 0,\n",
       " 0,\n",
       " 0,\n",
       " 0,\n",
       " 0,\n",
       " 0,\n",
       " 0,\n",
       " 0,\n",
       " 0,\n",
       " 0,\n",
       " 0,\n",
       " 0,\n",
       " 0,\n",
       " 1,\n",
       " 0,\n",
       " 0,\n",
       " 1,\n",
       " 0,\n",
       " 0,\n",
       " 0,\n",
       " 0,\n",
       " 0,\n",
       " 0,\n",
       " 0,\n",
       " 0,\n",
       " 0,\n",
       " 0,\n",
       " 0,\n",
       " 0,\n",
       " 0,\n",
       " 0,\n",
       " 1,\n",
       " 0,\n",
       " 1,\n",
       " 0,\n",
       " 0,\n",
       " 0,\n",
       " 0,\n",
       " 1,\n",
       " 1,\n",
       " 0,\n",
       " 0,\n",
       " 0,\n",
       " 1,\n",
       " 0,\n",
       " 0,\n",
       " 0,\n",
       " 1,\n",
       " 1,\n",
       " 1,\n",
       " 0,\n",
       " 0,\n",
       " 0,\n",
       " 1,\n",
       " 0,\n",
       " 0,\n",
       " 0,\n",
       " 1,\n",
       " 0,\n",
       " 0,\n",
       " 0,\n",
       " 1,\n",
       " 0,\n",
       " 0,\n",
       " 0,\n",
       " 1]"
      ]
     },
     "execution_count": 26,
     "metadata": {},
     "output_type": "execute_result"
    }
   ],
   "source": [
    "predictions_emd"
   ]
  },
  {
   "cell_type": "code",
   "execution_count": 27,
   "metadata": {},
   "outputs": [
    {
     "data": {
      "image/png": "[encoded data removed]",
      "text/plain": [
       "<Figure size 640x480 with 2 Axes>"
      ]
     },
     "metadata": {},
     "output_type": "display_data"
    }
   ],
   "source": [
    "cm = confusion_matrix(true_labels, predictions_emd)\n",
    "sns.heatmap(cm, annot=True, fmt='g', xticklabels=['Negative', 'Positive'], yticklabels=['Negative', 'Positive'])\n",
    "# Show number of samples in each class\n",
    "plt.title('Confusion matrix')\n",
    "plt.xlabel('Predicted')\n",
    "plt.ylabel('True')\n",
    "plt.show()\n"
   ]
  },
  {
   "cell_type": "code",
   "execution_count": 23,
   "metadata": {},
   "outputs": [],
   "source": [
    "FP = []\n",
    "for i in range(len(predictions_emd)):\n",
    "    if predictions_emd[i] == 1 and true_labels[i] == 0:\n",
    "        FP.append(i)"
   ]
  },
  {
   "cell_type": "code",
   "execution_count": 24,
   "metadata": {},
   "outputs": [
    {
     "data": {
      "text/plain": [
       "[]"
      ]
     },
     "execution_count": 24,
     "metadata": {},
     "output_type": "execute_result"
    }
   ],
   "source": [
    "FP"
   ]
  },
  {
   "cell_type": "code",
   "execution_count": 75,
   "metadata": {},
   "outputs": [
    {
     "data": {
      "image/png": "[encoded data removed]",
      "text/plain": [
       "<Figure size 1500x500 with 1 Axes>"
      ]
     },
     "metadata": {},
     "output_type": "display_data"
    }
   ],
   "source": [
    "i = 46\n",
    "plot_row(top_features=list(scores_no_plain[i].keys()), scores_no_plain=scores_no_plain[i], scores_plain=scores_plain[i], n=15)"
   ]
  },
  {
   "cell_type": "markdown",
   "metadata": {},
   "source": [
    "# BERT-Score"
   ]
  },
  {
   "cell_type": "code",
   "execution_count": 2,
   "metadata": {},
   "outputs": [],
   "source": [
    "bertscore = load(\"bertscore\")"
   ]
  },
  {
   "cell_type": "code",
   "execution_count": 3,
   "metadata": {},
   "outputs": [],
   "source": [
    "bleu = load(\"bleu\")\n",
    "rouge = load(\"rouge\")"
   ]
  },
  {
   "cell_type": "code",
   "execution_count": 4,
   "metadata": {},
   "outputs": [
    {
     "name": "stderr",
     "output_type": "stream",
     "text": [
      "[nltk_data] Downloading package wordnet to\n",
      "[nltk_data]     C:\\Users\\felip\\AppData\\Roaming\\nltk_data...\n",
      "[nltk_data]   Package wordnet is already up-to-date!\n",
      "[nltk_data] Downloading package punkt to\n",
      "[nltk_data]     C:\\Users\\felip\\AppData\\Roaming\\nltk_data...\n",
      "[nltk_data]   Package punkt is already up-to-date!\n",
      "[nltk_data] Downloading package omw-1.4 to\n",
      "[nltk_data]     C:\\Users\\felip\\AppData\\Roaming\\nltk_data...\n",
      "[nltk_data]   Package omw-1.4 is already up-to-date!\n",
      "Using default BLEURT-Base checkpoint for sequence maximum length 128. You can use a bigger model for better results with e.g.: evaluate.load('bleurt', 'bleurt-large-512').\n"
     ]
    },
    {
     "name": "stdout",
     "output_type": "stream",
     "text": [
      "INFO:tensorflow:Reading checkpoint C:\\Users\\felip\\.cache\\huggingface\\metrics\\bleurt\\default\\downloads\\extracted\\e408ab8b975eeab90ddead1fa48492214c3e5b6805426a9c1942f5729014f80d\\bleurt-base-128.\n",
      "INFO:tensorflow:Config file found, reading.\n",
      "INFO:tensorflow:Will load checkpoint bert_custom\n",
      "INFO:tensorflow:Loads full paths and checks that files exists.\n",
      "INFO:tensorflow:... name:bert_custom\n",
      "INFO:tensorflow:... vocab_file:vocab.txt\n",
      "INFO:tensorflow:... bert_config_file:bert_config.json\n",
      "INFO:tensorflow:... do_lower_case:True\n",
      "INFO:tensorflow:... max_seq_length:128\n",
      "INFO:tensorflow:Creating BLEURT scorer.\n",
      "INFO:tensorflow:Creating WordPiece tokenizer.\n",
      "INFO:tensorflow:WordPiece tokenizer instantiated.\n",
      "INFO:tensorflow:Creating Eager Mode predictor.\n",
      "INFO:tensorflow:Loading model.\n",
      "INFO:tensorflow:BLEURT initialized.\n"
     ]
    },
    {
     "name": "stderr",
     "output_type": "stream",
     "text": [
      "INFO:tensorflow:BLEURT initialized.\n"
     ]
    }
   ],
   "source": [
    "meteor = load('meteor')\n",
    "bleurt = load(\"bleurt\", module_type=\"metric\")"
   ]
  },
  {
   "cell_type": "code",
   "execution_count": 5,
   "metadata": {},
   "outputs": [],
   "source": [
    "folder_path_ground_truth = \"output_cochrane/ground_truth\"\n",
    "folder_path_gpt_35 = \"output_cochrane/gpt-35\"\n",
    "folder_path_gpt_4 = \"output_cochrane/gpt-4\"\n",
    "\n",
    "# Get all the texts in the folder\n",
    "files = os.listdir(folder_path_ground_truth)\n",
    "texts_ground_truth = []\n",
    "for file in files:\n",
    "    with open(folder_path_ground_truth + \"/\" + file, 'r', encoding=\"utf-8\") as f:\n",
    "        texts_ground_truth.append(f.read())\n",
    "\n",
    "# Get all the texts in the folder\n",
    "files = os.listdir(folder_path_gpt_35)\n",
    "texts_gpt_35 = []\n",
    "for file in files:\n",
    "    with open(folder_path_gpt_35 + \"/\" + file, 'r', encoding=\"utf-8\") as f:\n",
    "        texts_gpt_35.append(f.read())\n",
    "\n",
    "# Get all the texts in the folder\n",
    "files = os.listdir(folder_path_gpt_4)\n",
    "texts_gpt_4 = []\n",
    "for file in files:\n",
    "    with open(folder_path_gpt_4 + \"/\" + file, 'r', encoding=\"utf-8\") as f:\n",
    "        texts_gpt_4.append(f.read())"
   ]
  },
  {
   "cell_type": "code",
   "execution_count": null,
   "metadata": {},
   "outputs": [],
   "source": [
    "results_longformer_cochrane_gpt4 = bertscore.compute(predictions=texts_gpt_4, references=texts_ground_truth, model_type=\"allenai/longformer-large-4096-finetuned-triviaqa\")\n",
    "results_longformer_cochrane_gpt35 = bertscore.compute(predictions=texts_gpt_35, references=texts_ground_truth, model_type=\"allenai/longformer-large-4096-finetuned-triviaqa\")"
   ]
  },
  {
   "cell_type": "code",
   "execution_count": 18,
   "metadata": {},
   "outputs": [],
   "source": [
    "df = df[df[\"GPTTest\"] == \"Y\"]\n",
    "df_no_plain = df[df[\"label\"] == 0]"
   ]
  },
  {
   "cell_type": "code",
   "execution_count": 20,
   "metadata": {},
   "outputs": [],
   "source": [
    "df_plain =  df[df[\"label\"] == 1]"
   ]
  },
  {
   "cell_type": "code",
   "execution_count": 23,
   "metadata": {},
   "outputs": [],
   "source": [
    "# Save texts in ground truth folder\n",
    "folder_path_ground_truth = \"score_tests/ground_truth\"\n",
    "\n",
    "for i in range(len(df_plain)):\n",
    "    with open(folder_path_ground_truth + \"/\" + str(i) + \".txt\", 'w', encoding=\"utf-8\") as f:\n",
    "        f.write(df_plain.iloc[i]['text'])"
   ]
  },
  {
   "cell_type": "code",
   "execution_count": 85,
   "metadata": {},
   "outputs": [
    {
     "data": {
      "text/html": [
       "<div>\n",
       "<style scoped>\n",
       "    .dataframe tbody tr th:only-of-type {\n",
       "        vertical-align: middle;\n",
       "    }\n",
       "\n",
       "    .dataframe tbody tr th {\n",
       "        vertical-align: top;\n",
       "    }\n",
       "\n",
       "    .dataframe thead th {\n",
       "        text-align: right;\n",
       "    }\n",
       "</style>\n",
       "<table border=\"1\" class=\"dataframe\">\n",
       "  <thead>\n",
       "    <tr style=\"text-align: right;\">\n",
       "      <th></th>\n",
       "      <th>StudyID</th>\n",
       "      <th>Text</th>\n",
       "      <th>PL</th>\n",
       "      <th>Count Words</th>\n",
       "      <th>Min Count</th>\n",
       "      <th>GPTTest</th>\n",
       "    </tr>\n",
       "  </thead>\n",
       "  <tbody>\n",
       "    <tr>\n",
       "      <th>17</th>\n",
       "      <td>NCT02446899</td>\n",
       "      <td>Efficacy and Safety of Anifrolumab Compared to...</td>\n",
       "      <td>1</td>\n",
       "      <td>616</td>\n",
       "      <td>Ok</td>\n",
       "      <td>Y</td>\n",
       "    </tr>\n",
       "    <tr>\n",
       "      <th>22</th>\n",
       "      <td>NCT02446912</td>\n",
       "      <td>A study to find out if anifrolumab reduces lup...</td>\n",
       "      <td>1</td>\n",
       "      <td>662</td>\n",
       "      <td>Ok</td>\n",
       "      <td>Y</td>\n",
       "    </tr>\n",
       "    <tr>\n",
       "      <th>37</th>\n",
       "      <td>NCT02794285</td>\n",
       "      <td>Long Term Safety of Anifrolumab in Adult Subje...</td>\n",
       "      <td>1</td>\n",
       "      <td>669</td>\n",
       "      <td>Ok</td>\n",
       "      <td>Y</td>\n",
       "    </tr>\n",
       "    <tr>\n",
       "      <th>52</th>\n",
       "      <td>NCT03084471</td>\n",
       "      <td>An Open-Label, Multi-Centre, Study to Assess t...</td>\n",
       "      <td>1</td>\n",
       "      <td>474</td>\n",
       "      <td>Ok</td>\n",
       "      <td>Y</td>\n",
       "    </tr>\n",
       "    <tr>\n",
       "      <th>86</th>\n",
       "      <td>NCT03980483</td>\n",
       "      <td>A study to assess the effectiveness and safety...</td>\n",
       "      <td>1</td>\n",
       "      <td>461</td>\n",
       "      <td>Ok</td>\n",
       "      <td>Y</td>\n",
       "    </tr>\n",
       "    <tr>\n",
       "      <th>94</th>\n",
       "      <td>NCT04376684</td>\n",
       "      <td>A study to learn about the effect of otilimab ...</td>\n",
       "      <td>1</td>\n",
       "      <td>598</td>\n",
       "      <td>Ok</td>\n",
       "      <td>Y</td>\n",
       "    </tr>\n",
       "    <tr>\n",
       "      <th>106</th>\n",
       "      <td>NTC04428333</td>\n",
       "      <td>A study to compare the effects of feladilimab ...</td>\n",
       "      <td>1</td>\n",
       "      <td>613</td>\n",
       "      <td>Ok</td>\n",
       "      <td>Y</td>\n",
       "    </tr>\n",
       "    <tr>\n",
       "      <th>108</th>\n",
       "      <td>NCT02821416</td>\n",
       "      <td>A study to find out how benralizumab works in ...</td>\n",
       "      <td>1</td>\n",
       "      <td>677</td>\n",
       "      <td>Ok</td>\n",
       "      <td>Y</td>\n",
       "    </tr>\n",
       "    <tr>\n",
       "      <th>113</th>\n",
       "      <td>NCT03557281</td>\n",
       "      <td>An early bactericidal activity, safety and tol...</td>\n",
       "      <td>1</td>\n",
       "      <td>595</td>\n",
       "      <td>Ok</td>\n",
       "      <td>Y</td>\n",
       "    </tr>\n",
       "  </tbody>\n",
       "</table>\n",
       "</div>"
      ],
      "text/plain": [
       "        StudyID                                                Text  PL  \\\n",
       "17   NCT02446899  Efficacy and Safety of Anifrolumab Compared to...   1   \n",
       "22   NCT02446912  A study to find out if anifrolumab reduces lup...   1   \n",
       "37   NCT02794285  Long Term Safety of Anifrolumab in Adult Subje...   1   \n",
       "52   NCT03084471  An Open-Label, Multi-Centre, Study to Assess t...   1   \n",
       "86   NCT03980483  A study to assess the effectiveness and safety...   1   \n",
       "94   NCT04376684  A study to learn about the effect of otilimab ...   1   \n",
       "106  NTC04428333  A study to compare the effects of feladilimab ...   1   \n",
       "108  NCT02821416  A study to find out how benralizumab works in ...   1   \n",
       "113  NCT03557281  An early bactericidal activity, safety and tol...   1   \n",
       "\n",
       "     Count Words Min Count GPTTest  \n",
       "17           616        Ok       Y  \n",
       "22           662        Ok       Y  \n",
       "37           669        Ok       Y  \n",
       "52           474        Ok       Y  \n",
       "86           461        Ok       Y  \n",
       "94           598        Ok       Y  \n",
       "106          613        Ok       Y  \n",
       "108          677        Ok       Y  \n",
       "113          595        Ok       Y  "
      ]
     },
     "execution_count": 85,
     "metadata": {},
     "output_type": "execute_result"
    }
   ],
   "source": [
    "df_plain"
   ]
  },
  {
   "cell_type": "code",
   "execution_count": 86,
   "metadata": {},
   "outputs": [
    {
     "data": {
      "text/html": [
       "<div>\n",
       "<style scoped>\n",
       "    .dataframe tbody tr th:only-of-type {\n",
       "        vertical-align: middle;\n",
       "    }\n",
       "\n",
       "    .dataframe tbody tr th {\n",
       "        vertical-align: top;\n",
       "    }\n",
       "\n",
       "    .dataframe thead th {\n",
       "        text-align: right;\n",
       "    }\n",
       "</style>\n",
       "<table border=\"1\" class=\"dataframe\">\n",
       "  <thead>\n",
       "    <tr style=\"text-align: right;\">\n",
       "      <th></th>\n",
       "      <th>StudyID</th>\n",
       "      <th>Text</th>\n",
       "      <th>PL</th>\n",
       "      <th>Count Words</th>\n",
       "      <th>Min Count</th>\n",
       "      <th>GPTTest</th>\n",
       "    </tr>\n",
       "  </thead>\n",
       "  <tbody>\n",
       "    <tr>\n",
       "      <th>16</th>\n",
       "      <td>NCT02446899</td>\n",
       "      <td>Title: A Multicentre, Randomised, Double-blind...</td>\n",
       "      <td>0</td>\n",
       "      <td>2937</td>\n",
       "      <td>Ok</td>\n",
       "      <td>Y</td>\n",
       "    </tr>\n",
       "    <tr>\n",
       "      <th>21</th>\n",
       "      <td>NCT02446912</td>\n",
       "      <td>Title: A Multicentre, Randomised, Double-blind...</td>\n",
       "      <td>0</td>\n",
       "      <td>4958</td>\n",
       "      <td>Ok</td>\n",
       "      <td>Y</td>\n",
       "    </tr>\n",
       "    <tr>\n",
       "      <th>41</th>\n",
       "      <td>NCT02794285</td>\n",
       "      <td>Title: A Multicentre, Randomised, Double-blind...</td>\n",
       "      <td>0</td>\n",
       "      <td>2691</td>\n",
       "      <td>Ok</td>\n",
       "      <td>Y</td>\n",
       "    </tr>\n",
       "    <tr>\n",
       "      <th>51</th>\n",
       "      <td>NCT03084471</td>\n",
       "      <td>Title: An Open-Label, Multi-Centre, Safety Stu...</td>\n",
       "      <td>0</td>\n",
       "      <td>3049</td>\n",
       "      <td>Ok</td>\n",
       "      <td>Y</td>\n",
       "    </tr>\n",
       "    <tr>\n",
       "      <th>85</th>\n",
       "      <td>NCT03980483</td>\n",
       "      <td>Title: A 52-week, Phase 3, Multicentre, Random...</td>\n",
       "      <td>0</td>\n",
       "      <td>2446</td>\n",
       "      <td>Ok</td>\n",
       "      <td>Y</td>\n",
       "    </tr>\n",
       "    <tr>\n",
       "      <th>93</th>\n",
       "      <td>NCT04376684</td>\n",
       "      <td>Title: A Randomized, Double-blind, Placebo-con...</td>\n",
       "      <td>0</td>\n",
       "      <td>2104</td>\n",
       "      <td>Ok</td>\n",
       "      <td>Y</td>\n",
       "    </tr>\n",
       "    <tr>\n",
       "      <th>105</th>\n",
       "      <td>NTC04428333</td>\n",
       "      <td>Title: A Randomized, Double-Blind, Adaptive, P...</td>\n",
       "      <td>0</td>\n",
       "      <td>3356</td>\n",
       "      <td>Ok</td>\n",
       "      <td>Y</td>\n",
       "    </tr>\n",
       "    <tr>\n",
       "      <th>107</th>\n",
       "      <td>NCT02821416</td>\n",
       "      <td>Title: A Double-Blind, Randomized, Parallel Gr...</td>\n",
       "      <td>0</td>\n",
       "      <td>4011</td>\n",
       "      <td>Ok</td>\n",
       "      <td>Y</td>\n",
       "    </tr>\n",
       "    <tr>\n",
       "      <th>112</th>\n",
       "      <td>NCT03557281</td>\n",
       "      <td>Title: A Phase IIa Open-label Trial to Investi...</td>\n",
       "      <td>0</td>\n",
       "      <td>2199</td>\n",
       "      <td>Ok</td>\n",
       "      <td>Y</td>\n",
       "    </tr>\n",
       "  </tbody>\n",
       "</table>\n",
       "</div>"
      ],
      "text/plain": [
       "        StudyID                                                Text  PL  \\\n",
       "16   NCT02446899  Title: A Multicentre, Randomised, Double-blind...   0   \n",
       "21   NCT02446912  Title: A Multicentre, Randomised, Double-blind...   0   \n",
       "41   NCT02794285  Title: A Multicentre, Randomised, Double-blind...   0   \n",
       "51   NCT03084471  Title: An Open-Label, Multi-Centre, Safety Stu...   0   \n",
       "85   NCT03980483  Title: A 52-week, Phase 3, Multicentre, Random...   0   \n",
       "93   NCT04376684  Title: A Randomized, Double-blind, Placebo-con...   0   \n",
       "105  NTC04428333  Title: A Randomized, Double-Blind, Adaptive, P...   0   \n",
       "107  NCT02821416  Title: A Double-Blind, Randomized, Parallel Gr...   0   \n",
       "112  NCT03557281  Title: A Phase IIa Open-label Trial to Investi...   0   \n",
       "\n",
       "     Count Words Min Count GPTTest  \n",
       "16          2937        Ok       Y  \n",
       "21          4958        Ok       Y  \n",
       "41          2691        Ok       Y  \n",
       "51          3049        Ok       Y  \n",
       "85          2446        Ok       Y  \n",
       "93          2104        Ok       Y  \n",
       "105         3356        Ok       Y  \n",
       "107         4011        Ok       Y  \n",
       "112         2199        Ok       Y  "
      ]
     },
     "execution_count": 86,
     "metadata": {},
     "output_type": "execute_result"
    }
   ],
   "source": [
    "df_no_plain"
   ]
  },
  {
   "cell_type": "code",
   "execution_count": 87,
   "metadata": {},
   "outputs": [
    {
     "data": {
      "text/html": [
       "<div>\n",
       "<style scoped>\n",
       "    .dataframe tbody tr th:only-of-type {\n",
       "        vertical-align: middle;\n",
       "    }\n",
       "\n",
       "    .dataframe tbody tr th {\n",
       "        vertical-align: top;\n",
       "    }\n",
       "\n",
       "    .dataframe thead th {\n",
       "        text-align: right;\n",
       "    }\n",
       "</style>\n",
       "<table border=\"1\" class=\"dataframe\">\n",
       "  <thead>\n",
       "    <tr style=\"text-align: right;\">\n",
       "      <th></th>\n",
       "      <th>StudyID</th>\n",
       "      <th>Text</th>\n",
       "      <th>PL</th>\n",
       "      <th>Count Words</th>\n",
       "      <th>Min Count</th>\n",
       "      <th>GPTTest</th>\n",
       "    </tr>\n",
       "  </thead>\n",
       "  <tbody>\n",
       "    <tr>\n",
       "      <th>17</th>\n",
       "      <td>NCT02446899</td>\n",
       "      <td>Efficacy and Safety of Anifrolumab Compared to...</td>\n",
       "      <td>1</td>\n",
       "      <td>616</td>\n",
       "      <td>Ok</td>\n",
       "      <td>Y</td>\n",
       "    </tr>\n",
       "    <tr>\n",
       "      <th>22</th>\n",
       "      <td>NCT02446912</td>\n",
       "      <td>A study to find out if anifrolumab reduces lup...</td>\n",
       "      <td>1</td>\n",
       "      <td>662</td>\n",
       "      <td>Ok</td>\n",
       "      <td>Y</td>\n",
       "    </tr>\n",
       "    <tr>\n",
       "      <th>37</th>\n",
       "      <td>NCT02794285</td>\n",
       "      <td>Long Term Safety of Anifrolumab in Adult Subje...</td>\n",
       "      <td>1</td>\n",
       "      <td>669</td>\n",
       "      <td>Ok</td>\n",
       "      <td>Y</td>\n",
       "    </tr>\n",
       "    <tr>\n",
       "      <th>52</th>\n",
       "      <td>NCT03084471</td>\n",
       "      <td>An Open-Label, Multi-Centre, Study to Assess t...</td>\n",
       "      <td>1</td>\n",
       "      <td>474</td>\n",
       "      <td>Ok</td>\n",
       "      <td>Y</td>\n",
       "    </tr>\n",
       "    <tr>\n",
       "      <th>86</th>\n",
       "      <td>NCT03980483</td>\n",
       "      <td>A study to assess the effectiveness and safety...</td>\n",
       "      <td>1</td>\n",
       "      <td>461</td>\n",
       "      <td>Ok</td>\n",
       "      <td>Y</td>\n",
       "    </tr>\n",
       "    <tr>\n",
       "      <th>94</th>\n",
       "      <td>NCT04376684</td>\n",
       "      <td>A study to learn about the effect of otilimab ...</td>\n",
       "      <td>1</td>\n",
       "      <td>598</td>\n",
       "      <td>Ok</td>\n",
       "      <td>Y</td>\n",
       "    </tr>\n",
       "    <tr>\n",
       "      <th>106</th>\n",
       "      <td>NTC04428333</td>\n",
       "      <td>A study to compare the effects of feladilimab ...</td>\n",
       "      <td>1</td>\n",
       "      <td>613</td>\n",
       "      <td>Ok</td>\n",
       "      <td>Y</td>\n",
       "    </tr>\n",
       "    <tr>\n",
       "      <th>108</th>\n",
       "      <td>NCT02821416</td>\n",
       "      <td>A study to find out how benralizumab works in ...</td>\n",
       "      <td>1</td>\n",
       "      <td>677</td>\n",
       "      <td>Ok</td>\n",
       "      <td>Y</td>\n",
       "    </tr>\n",
       "    <tr>\n",
       "      <th>113</th>\n",
       "      <td>NCT03557281</td>\n",
       "      <td>An early bactericidal activity, safety and tol...</td>\n",
       "      <td>1</td>\n",
       "      <td>595</td>\n",
       "      <td>Ok</td>\n",
       "      <td>Y</td>\n",
       "    </tr>\n",
       "  </tbody>\n",
       "</table>\n",
       "</div>"
      ],
      "text/plain": [
       "        StudyID                                                Text  PL  \\\n",
       "17   NCT02446899  Efficacy and Safety of Anifrolumab Compared to...   1   \n",
       "22   NCT02446912  A study to find out if anifrolumab reduces lup...   1   \n",
       "37   NCT02794285  Long Term Safety of Anifrolumab in Adult Subje...   1   \n",
       "52   NCT03084471  An Open-Label, Multi-Centre, Study to Assess t...   1   \n",
       "86   NCT03980483  A study to assess the effectiveness and safety...   1   \n",
       "94   NCT04376684  A study to learn about the effect of otilimab ...   1   \n",
       "106  NTC04428333  A study to compare the effects of feladilimab ...   1   \n",
       "108  NCT02821416  A study to find out how benralizumab works in ...   1   \n",
       "113  NCT03557281  An early bactericidal activity, safety and tol...   1   \n",
       "\n",
       "     Count Words Min Count GPTTest  \n",
       "17           616        Ok       Y  \n",
       "22           662        Ok       Y  \n",
       "37           669        Ok       Y  \n",
       "52           474        Ok       Y  \n",
       "86           461        Ok       Y  \n",
       "94           598        Ok       Y  \n",
       "106          613        Ok       Y  \n",
       "108          677        Ok       Y  \n",
       "113          595        Ok       Y  "
      ]
     },
     "execution_count": 87,
     "metadata": {},
     "output_type": "execute_result"
    }
   ],
   "source": [
    "df_plain"
   ]
  },
  {
   "cell_type": "code",
   "execution_count": 88,
   "metadata": {},
   "outputs": [],
   "source": [
    "# import openai\n",
    "# os.environ[\"OPENAI_API_BASE\"] = \"\"\n",
    "# os.environ[\"OPENAI_API_KEY\"] = \"\"\n",
    "# openai.api_key = os.getenv(\"OPENAI_API_KEY\")\n",
    "# openai.api_base = os.getenv(\"OPENAI_API_BASE\") # your endpoint should look like the following https://YOUR_RESOURCE_NAME.openai.azure.com/\n",
    "# openai.api_type = 'azure'\n",
    "# openai.api_version = '2023-05-15' # this may change in the future"
   ]
  },
  {
   "cell_type": "code",
   "execution_count": 100,
   "metadata": {},
   "outputs": [],
   "source": [
    "texts_no_plain = df_plain[\"Text\"].values"
   ]
  },
  {
   "cell_type": "code",
   "execution_count": 101,
   "metadata": {},
   "outputs": [],
   "source": [
    "texts_original = df_plain[\"Text\"].values"
   ]
  },
  {
   "cell_type": "code",
   "execution_count": 91,
   "metadata": {},
   "outputs": [],
   "source": [
    "# i = 0\n",
    "# for text in texts:    \n",
    "#     prompt = f\"\"\"\n",
    "# Using the following clinical trial protocol text as input, generate a Protocol Plain Language Summary (PPLS) compliant with GDPR and understandable by any patient, regardless of their health literacy. Ensure that the generated text adheres to the following instructions which should be followed step-by-step: \n",
    "\n",
    "# a. Specific Structure: the generated PPLS should be presented in a logical order, using the following headings:\n",
    "#     1. Plain Protocol Title.\n",
    "#     2. Rationale\n",
    "#     3. Objectives\n",
    "#     4. Trial Design\n",
    "#     5. Trial Population\n",
    "#     6. Interventions \n",
    "# b. Sections should be authored following these parameters:\n",
    "#     1. Plain Protocol Title: Simplified protocol title understandable to a layperson \n",
    "#     2. Rationale: Include: phrase ‘Researchers are looking for a better way to treat [condition]; background or study rationale providing a general description of the condition, what it may cause or why it is a burden for the patients; the reason and main hypothesis for the study; and why the study is needed, and the study medication has the potential to treat the condition. \n",
    "#     3. Objectives: Answer ‘What are the goals of the study?’ Specify the main and secondary objectives of the trial and how will they be measured (eg. the main trial endpoint is the percent change in the number of events from baseline to a specified time or the total number of adverse reactions at a particular time after baseline). \n",
    "#     4. Trial Design: Answer ‘How is this study designed?’ Include the description of the design and the expected amount of time a person will be in the study. \n",
    "#     5. Trial Population: answer ‘Who will participate in this study?’ Include description of study and patient population (age, health condition, genre), the main or key inclusion and exclusion criteria.\n",
    "#     6. Interventions: answer ‘What treatments are being given during the study?’  Include a description of medication, vaccine or treatment(s) being studied, the route of administration, the duration of treatment, and any study-related diagnostic and monitoring procedures used. Include justification if placebo is used.\n",
    "# c. Consistency and Replicability: the generated PPLS should be consistent regardless of the order of sentences or the specific phrasing used in the input protocol text. \n",
    "# d. Compliance with Plain Language Guidelines: The generated PPLS must follow these plain language guidelines:\n",
    "#     1. Have readability grade level of 6 or below. \n",
    "#     2. Do not have jargon. All technical or medical words or terms should be defined or broken down into simple and logical explanations. \n",
    "#     3. Active voice, not passive \n",
    "#     4. Mostly one or two syllable words \n",
    "#     5. Sentences of 15 words or less \n",
    "#     6. Short paragraphs of 3-5 sentences \n",
    "#     7. Simple numbers (eg, ratios, no percentages)\n",
    "# e. No Extra Content: The AI model should not invent information or add content that is not present in the input protocol. The PPLS should only present information from the original protocol in a simplified and understandable manner.\n",
    "# f. Aim for an approximate PPLS length of 500-900 words. \n",
    "\n",
    "# Clinical Trial Protocol Text: {text}\"\"\"\n",
    "    \n",
    "#     response = openai.ChatCompletion.create(\n",
    "#         engine=\"gpt-4-32k-rfmanrique\",\n",
    "#         messages=[{'role': 'user', 'content': prompt}],\n",
    "#         ).choices[0].message[\"content\"]\n",
    "    \n",
    "#     with open(f\"output/{i}_gpt_4.txt\", \"w\") as file:\n",
    "#         file.write(response)\n",
    "#     i += 1"
   ]
  },
  {
   "cell_type": "code",
   "execution_count": 92,
   "metadata": {},
   "outputs": [],
   "source": [
    "# os.environ[\"OPENAI_API_BASE\"] = \"\"\n",
    "# os.environ[\"OPENAI_API_KEY\"] = \"\"\n",
    "# openai.api_key = os.getenv(\"OPENAI_API_KEY\")\n",
    "# openai.api_base = os.getenv(\"OPENAI_API_BASE\") # your endpoint should look like the following https://YOUR_RESOURCE_NAME.openai.azure.com/\n",
    "# openai.api_type = 'azure'\n",
    "# openai.api_version = '2023-05-15' # this may change in the future"
   ]
  },
  {
   "cell_type": "code",
   "execution_count": 93,
   "metadata": {},
   "outputs": [],
   "source": [
    "# i = 0\n",
    "# for text in texts:    \n",
    "#     prompt = f\"\"\"\n",
    "# Using the following clinical trial protocol text as input, generate a Protocol Plain Language Summary (PPLS) compliant with GDPR and understandable by any patient, regardless of their health literacy. Ensure that the generated text adheres to the following instructions which should be followed step-by-step: \n",
    "\n",
    "# a. Specific Structure: the generated PPLS should be presented in a logical order, using the following headings:\n",
    "#     1. Plain Protocol Title.\n",
    "#     2. Rationale\n",
    "#     3. Objectives\n",
    "#     4. Trial Design\n",
    "#     5. Trial Population\n",
    "#     6. Interventions \n",
    "# b. Sections should be authored following these parameters:\n",
    "#     1. Plain Protocol Title: Simplified protocol title understandable to a layperson \n",
    "#     2. Rationale: Include: phrase ‘Researchers are looking for a better way to treat [condition]; background or study rationale providing a general description of the condition, what it may cause or why it is a burden for the patients; the reason and main hypothesis for the study; and why the study is needed, and the study medication has the potential to treat the condition. \n",
    "#     3. Objectives: Answer ‘What are the goals of the study?’ Specify the main and secondary objectives of the trial and how will they be measured (eg. the main trial endpoint is the percent change in the number of events from baseline to a specified time or the total number of adverse reactions at a particular time after baseline). \n",
    "#     4. Trial Design: Answer ‘How is this study designed?’ Include the description of the design and the expected amount of time a person will be in the study. \n",
    "#     5. Trial Population: answer ‘Who will participate in this study?’ Include description of study and patient population (age, health condition, genre), the main or key inclusion and exclusion criteria.\n",
    "#     6. Interventions: answer ‘What treatments are being given during the study?’  Include a description of medication, vaccine or treatment(s) being studied, the route of administration, the duration of treatment, and any study-related diagnostic and monitoring procedures used. Include justification if placebo is used.\n",
    "# c. Consistency and Replicability: the generated PPLS should be consistent regardless of the order of sentences or the specific phrasing used in the input protocol text. \n",
    "# d. Compliance with Plain Language Guidelines: The generated PPLS must follow these plain language guidelines:\n",
    "#     1. Have readability grade level of 6 or below. \n",
    "#     2. Do not have jargon. All technical or medical words or terms should be defined or broken down into simple and logical explanations. \n",
    "#     3. Active voice, not passive \n",
    "#     4. Mostly one or two syllable words \n",
    "#     5. Sentences of 15 words or less \n",
    "#     6. Short paragraphs of 3-5 sentences \n",
    "#     7. Simple numbers (eg, ratios, no percentages)\n",
    "# e. No Extra Content: The AI model should not invent information or add content that is not present in the input protocol. The PPLS should only present information from the original protocol in a simplified and understandable manner.\n",
    "# f. Aim for an approximate PPLS length of 500-900 words. \n",
    "\n",
    "# Clinical Trial Protocol Text: {text}\"\"\"\n",
    "    \n",
    "#     response = openai.ChatCompletion.create(\n",
    "#         engine=\"gpt-35-turbo-16k-rfmanrique\",\n",
    "#         messages=[{'role': 'user', 'content': prompt}],\n",
    "#         ).choices[0].message[\"content\"]\n",
    "    \n",
    "#     with open(f\"output_gpt35/{i}_gpt35.txt\", \"w\") as file:\n",
    "#         file.write(response)\n",
    "#     i += 1"
   ]
  },
  {
   "cell_type": "markdown",
   "metadata": {},
   "source": [
    "# BERT-Score"
   ]
  },
  {
   "cell_type": "code",
   "execution_count": 108,
   "metadata": {},
   "outputs": [
    {
     "data": {
      "text/plain": [
       "[\"Plain Protocol Title: Testing the Effectiveness and Safety of Anifrolumab in Adults with Active Lupus\\n\\nRationale: Lupus is a chronic illness that affects the immune system and can cause different health problems throughout the body. The disease can cause fatigue, rashes, joint pain, and kidney problems, among other things. This can lead to physical discomfort and even job loss, reducing the quality of life for patients. Right now, there's a need for better ways to treat Lupus. This study aims to see if a new medication, called Anifrolumab, can safely and effectively treat adults with active Lupus. \\n\\nObjectives: The main goal of this study is to see if Anifrolumab can improve Lupus symptoms better than a placebo, after one year of treatment. Improvement will be measured using a special assessment tool called the British Isles Lupus Assessment Group-based Composite Lupus Assessment (BICLA). This tool checks a variety of signs and symptoms of Lupus, looking for improvements. Other objectives include seeing whether the medication can reduce skin rash severity and joint pain, lower the dose of other Lupus medicines needed, and if it can be safely tolerated.\\n\\nTrial Design: This study is conducted across different locations and will include around 360 adults with Lupus, aged between 18 and 70. Half of the participants will receive Anifrolumab and the other half will receive a placebo (a treatment with no active medication), both given through an IV (a drip into the vein). This is completely random and neither the patient nor the doctors will know which treatment they’re getting, to make the results more reliable. The treatment will be given once every 4 weeks for 48 weeks (around 1 year), and the effects of the treatment will be measured at the end of this one-year period.\\n\\nTrial Population: This study will involve adults between the ages of 18 and 70, who have moderate to severe Lupus which is marked by the presence of certain antibodies. Participants must already be on treatment for Lupus, including oral corticosteroids, antimalarials, and/or immunosuppressants. \\n\\nInterventions: The treatment being tested is called Anifrolumab. It will be given through an IV (a drip into the vein) every 4 weeks over a course of one year. This medication will be compared to a placebo. A placebo looks just like the Anifrolumab treatment but it doesn't have any medication in it. The use of a placebo helps researchers see if the effects of Anifrolumab are due to the treatment itself or are psychological. All participants will also continue their usual Lupus treatments alongside the study medication or placebo. In this study, we will measure changes in Lupus symptoms and check for any side effects.\",\n",
       " \"Plain Protocol Title: A Study to Test if Anifrolumab is Safe and Helps Adults with Active Lupus\\n\\nRationale: Systemic Lupus Erythematosus (Lupus) is a chronic disease that causes inflammation in various parts of the body, leading to fatigue, joint pain, rash, and potentially severe organ damage. Because current treatments don't work well for everyone and can cause serious side effects, researchers are looking for a better way to treat this condition. This study is needed to test a new medication called Anifrolumab. Anifrolumab works by blocking a part of the body's immune system thought to contribute to lupus. Researchers hope that this will reduce the disease's activity and improve symptoms.\\n\\nObjectives: The main goal of this study is to see if Anifrolumab helps lessen lupus activity compared to a placebo. We'll measure this by counting the number of patients who show a reduction in their lupus symptoms after a year. We also aim to see if Anifrolumab reduces the need for other lupus medications and if it improves skin symptoms in certain patients. \\n\\nTrial Design: This study will include roughly 450 adults with moderately or severely active lupus. Patients will randomly receive either Anifrolumab or a placebo, alongside their usual treatments. They will receive the assigned treatment through an IV (a small tube in a vein) every four weeks for a year. Neither the patient nor their doctor will know if they are receiving Anifrolumab or the placebo. \\n\\nTrial Population: Adult patients, ranging from 18 to 70 years, who have moderately or severely active lupus can participate in this study. Patients must have certain levels of active lupus assessed by specific health scores, and they should already be receiving certain lupus treatments, like oral steroids, antimalarial drugs, or immune suppressants. This study seeks to include both men and women, but women who are pregnant, plan to become pregnant, or are breastfeeding, cannot participate. \\n\\nInterventions: Patients will receive either Anifrolumab (two different doses are tested) or a placebo through an IV every four weeks. The placebo is used as a comparison to see if the potential benefits are due to the Anifrolumab, and not a response to receiving an injection. We'll be observing how the patient responds to these treatments and monitoring any side effects that may occur.\",\n",
       " \"Plain Protocol Title: Testing the Long-Term Safety of Anifrolumab for Adults with Active Systemic Lupus Erythematosus\\n\\nRationale: Researchers are trying to find better ways to treat Systemic Lupus Erythematosus (SLE). SLE is a long-term illness where the body's immune system starts attacking its own cells, leading to various symptoms like rashes, joint pain, kidney problems, and brain function issues. It mostly affects women of child-bearing age. Current treatments for SLE often have significant side effects, and there’s an immediate need for safer and more effective options. This study will test a medication called Anifrolumab, which may slow down the immune system response and reduce the requirement for existing treatments.\\n\\nObjectives: The main goal is to see if Anifrolumab is safe and can be tolerated in the long term by adults suffering from SLE. We will measure this by counting any change in the numbers of side effects or negative reactions during the study.\\n\\nTrial Design: This is a study where participants are selected at random to receive either Anifrolumab or a placebo (medicine having no effect) through an IV (a tube that goes into your vein). Participants will not know which one they are receiving. The treatment will last for about 3 years. Every 4 weeks, a dose of the treatment or placebo will be given. We plan to include approximately 575 people in the study who have already participated in a prior study with Anifrolumab.\\n\\nTrial Population: Adults who have already completed a previous study on Anifrolumab and have moderate to severe active SLE are eligible to participate. Participants can be taking medicines like oral corticosteroids, azathioprine, or antimalarials and do not need to have a specific level of disease activity to join this follow-up study. People already participating in another clinical trial or women who intend to become pregnant during the study cannot participate.\\n\\nInterventions: You will receive Anifrolumab (300 mg) or a placebo through an IV every 4 weeks. The treatment will run for up to 39 rounds (0 week to 152nd week). The medicine or placebo dose will be given through an infusion pump over 30 minutes. Anifrolumab has been developed to potentially slow down your immune response which is overactive in SLE. If a placebo is used, it's to compare the effects with the actual drug and assess the drug's effectiveness correctly.\\n\",\n",
       " 'Plain Protocol Title: Testing the Safety of Cancer Medicines Durvalumab Alone or with Tremelimumab\\n\\nRationale: Many people are dealing with cancer or \"solid tumors\". This is hard for them because their bodies aren\\'t able to fight off the cancer cells effectively. Scientists believe there might be a better way to tackle cancer by using medicines called durvalumab and tremelimumab. These medications could help the body\\'s defense system, known as the immune system, recognize and fight cancer cells. This study needs to be done to see if using these medications either alone or together is safe and beneficial to treat people with cancer.\\n\\nObjectives: We want to find out how safe it is for patients with cancer to take a fixed dose of either durvalumab alone or with tremelimumab. We\\'ll measure how many patients have side effects from the medicines, what those side effects are, how serious they are, and if they go away by themselves or need treatment. Another thing we want to see is how long patients live after getting these treatments. \\n\\nTrial Design: This study will include patients from different places and hospitals. It is an open study, so everyone will know what treatment they are getting. Patients will be treated with the medications for as long as they are benefiting and not having serious side effects. Any side effects will be followed for 90 days after treatment ends. We will also check on the patients every 3 months for up to 5 years to see how they are doing.\\n\\nTrial Population: This study is for adults 18 years and older who have cancer that can\\'t be cured by surgery. They should not have been treated with certain immune system drugs previously. They need to be feeling well enough to do normal things like walking, and need to have normal organ and marrow function as measured by blood tests.\\n\\nInterventions: Patients will be given one of two treatments. One group will get a combined treatment of durvalumab and tremelimumab given through an IV drip into the arm every 4 weeks for up to 4 doses. Then, they will receive durvalumab alone every 4 weeks. Another group will get durvalumab alone every 4 weeks from the start. A placebo will not be used in this study because all patients need an active treatment due to their cancer condition.\\n',\n",
       " \"Plain Protocol Title: An A Year Long Study of a New Treatment in Combination with Methotrexate for People with Severe Rheumatoid Arthritis\\n\\nRationale: Rheumatoid arthritis (RA) is a condition where the bodyï¿½s immune system attacks its own tissues, causing painful swelling in joints, which can be very hard for patients to live with. Some people with RA don't respond well to existing treatments, so we are seeking a better way to treat this condition. Our study tests the drug GSK3196165, in combination with another known drug, methotrexate. We believe this approach has the potential to help people with severe RA. \\n\\nObjectives: The main goal of our study is to see if GSK3196165 (a new drug) given at two different doses can better help people who have severe RA and who have not found relief with methotrexate alone. We will measure this by looking at the change in the number of joint swellings and pain from the start to the end of the study.\\n\\nWe also want to compare the new drug to another known drug, tofacitinib, and assess the patient's experiences during treatment. We will also monitor the safety and tolerability of GSK3196165, as well as how the body may react to the drug.\\n\\nTrial Design: This study will happen in different places and will last for about a year and two months. The first one and a half month will be for patient checks and assessments. Then, the actual treatment will start, and carry on for a year. After the treatment, there will be a two-month follow-up period. \\n\\nTrial Population: This study is open to both men and women over the age of 18 who are living with severe RA that hasn't improved with methotrexate. The patients should have been suffering from RA for at least six months and must agree to continue or begin taking folic acid, a vitamin usually given with methotrexate. People who have previously been treated with certain RA drugs (bDMARDs) cannot be more than 20% of all the patients in the study.\\n\\nInterventions: Patients will receive one of two doses of the new drug (90 or 150 milligrams), a known drug called tofacitinib, or a placebo through a weekly under-the-skin injection. All these will be given along with ongoing methotrexate treatment. If a patient gets a placebo, they will start getting an active treatment at week 12. The injection time will be set in the schedule of activities (SoA). Anyone who takes part in this study might also get the chance to be in a long-term extension of this study.\",\n",
       " 'Plain Protocol Title: A Study to Test the Safety and Effectiveness of Otilimab in Patients with Severe Lung Disease Due to COVID-19\\n\\nRationale: Researchers are trying to find a better way to treat severe lung disease caused by COVID-19. This disease can greatly reduce a patient\\'s ability to breathe and can also be severe enough to require hospitalization or use of a breathing machine. Otilimab is a medicine that has shown positive results in calming down overactive immune responses. This is important because when COVID-19 gets severe, it\\'s often because the body\\'s immune system is overacting and damaging its own cells instead of just fighting off the virus. Thus, there is a reason to believe that Otilimab can help treat this severe lung disease by calming down this overactive immune response.\\n\\nObjectives: The main goal of this study is to see if Otilimab can improve breathing in patients with severe COVID-19 lung disease compared to a placebo (a substance that has no therapeutic effect used as a control in testing new drugs). We will determine this by measuring the change in patients\\' need for oxygen support or use of a breathing machine. As secondary goals, we also want to check if Otilimab can provide other benefits to patients and whether it is safe to use.\\n\\nTrial Design: This study is planned to be performed in different hospitals. Participants will be randomly chosen to get either Otilimab or placebo, along with the usual care for severe COVID-19 lung disease. We don\\'t know who will get which (that\\'s the \"double-blind\" part). We\\'ll monitor the health status of each participant daily until they leave the hospital (or up to 28 days) and have follow-ups 42 and 60 days after the treatment starts. \\n\\nTrial Population: This study is for adults aged between 18-79 years who have a positive test for COVID-19 and are in the hospital because of severe lung disease caused by the virus. To be eligible, participants also need to have recently started needing significant oxygen support, such as high-flow oxygen, non-invasive ventilation, or mechanical ventilation. Participants cannot join if they have certain pre-existing conditions or are taking immunosuppressant medicines or treatments for diseases other than COVID-19.\\n\\nInterventions: Participants will receive a one-time infusion (direct injection into the blood) of either Otilimab or a placebo. This will be in addition to the standard care they are already receiving for their condition. We\\'re using a placebo so we can be sure that any changes we see are due to Otilimab and not just the standard care or random chance.',\n",
       " \"Plain Protocol Title: Studying a New Cancer Drug Combo vs Placebo for Head & Neck Cancer \\n\\nRationale: This study is for people with a certain cancer of the head and neck. The technical name for this is 'recurrent/metastatic head and neck squamous cell carcinoma.' This cancer can spread or come back after treatment, causing problems for patients. We are looking for a better way to treat this. The new approach uses a drug called GSK3359609 along with two other drugs, pembrolizumab and 5FU-platinum based chemotherapy. We believe this mix might work better than just pembrolizumab and the chemotherapy on their own. Another group of patients will get a sugar pill (placebo) instead of GSK3359609 alongside the other two drugs. \\n\\nObjectives: Our main goal is to see if adding GSK3359609 to the other drugs works better against cancer than using a placebo with the other drugs. We'll measure this by comparing the number of cancer events from before and after treatment. We also want to look at the potential side effects and how well patients feel during this treatment.\\n\\nTrial Design: The study will have two parts and will use a luck-of-the-draw method to decide who gets which treatment. There will be three main parts for each person in the study - screening, treatment, and follow-up. After screening to make sure you are a good fit, you'll be put into one of two treatment groups. If you're in the study for the full time, you'll be getting the treatment for roughly 2 years. \\n\\nTrial Population: The study will include about 640 adults (18 or older) with this type of head and neck cancer. It doesn't matter if you're a man or a woman, but you need to have had this cancer come back or spread after your first treatment. If this study grows to include more people, up to 275 of them will have high levels of a certain molecule (PD-L1) in their cancer cells.\\n\\nInterventions: During the study, we'll be giving people several drugs. GSK3359609, pembrolizumab, and 5FU-platinum chemotherapy, or a placebo instead of GSK3359609. The plan is to give the drug mix for 6 rounds (each 21 days long). Then, we'll continue on with just pembrolizumab and GSK3359609, or the placebo, for up to 35 rounds. All these drugs will be given in a vein in your arm. The use of a placebo will help us understand if the added treatment is effective.\",\n",
       " \"Plain Protocol Title: Testing the Impact of the Medicine Benralizumab on Asthma Symptoms in an Easy-to-Understand Study \\n\\nRationale: Asthma is a common condition that can cause problems breathing. Some of these problems are due to the body responding too strongly to things like air particles, causing inflammation and discomfort. In this study, scientists want to find a better way to treat asthma. They are studying a medicine called benralizumab that might help reduce this overreaction in non-smokers who have a mild form of asthma caused by allergies. They believe the medicine might help by reducing inflammation, making it easier for people with asthma to breathe. This study will test this idea to see if benralizumab is effective for patients with asthma.\\n\\nObjectives: The main goal of this study is to see if benralizumab can affect the body's response to allergens (things that cause allergies). Specifically, researchers want to see if the medicine reduces the number of specific cells, called eosinophils, in patients' spit after being exposed to allergens. These cells increase in number when the body reacts to allergens, which can make asthma symptoms worse. Additionally, the study hopes to find out if the medicine can lessen patientsï¿½ asthma response a few hours after exposure to allergens. Other goals include testing whether the medication reduces the number of these cells in lung tissue and blood. \\n\\nTrial Design: Participants in this study will be split into two groups. One group will get the medicine benralizumab, while the other will get a placebo, or fake medicine that doesn't have any effects. None of the participants will know which one they get. The drug will be given under the skin every 4 weeks, three times in total. Later, the patients' reactions to allergens will be tested. The whole study will take several months to complete.\\n\\nTrial Population: This research study will involve nearly 40 people, both men and women. To participate, you should be between 18 and 65 years old, with asthma symptoms triggered by allergies. You have to be a non-smoker, and not taking any long-term medicines for asthma. You should also be generally healthy and able to give a spit sample when asked.\\n\\nInterventions: During the study, you will be given an injection of benralizumab or a placebo (meaning it contains no real medicine) under your skin every four weeks, for a total of three doses. You wonï¿½t know whether youï¿½re getting the real drug or placebo. Then, the doctors will expose you to an allergen, and check your response. They will do this by counting eosinophils in your spit and blood and checking your lung function. They will repeat this process to obtain two sets of data.\",\n",
       " \"Plain Protocol Title: A Study on Safely Testing a New TB Medicine (GSK3036656) in Patients with Regular ï¿½Drug-Sensitiveï¿½ TB.\\n\\nRationale: Researchers are working to find improved treatments for tuberculosis (TB). TB is a severe disease, causing even more deaths than AIDS. Right now, we have a potential TB treatment, a drug called GSK3036656, which stops the bacteria from growing. This research will look at how well GSK3036656 works against the bacteria responsible for TB, specifically in patients with a common kind of TB that can still be treated with usual drugs. This drug is important because TB is still widespread and the existing treatments don't work well enough, and can lead to the bacteria growing resistant to them. We also need to be able to treat the more stubborn, drug-resistant strains of TB. \\n\\nObjectives: The main goal of the study is to see how much GSK3036656 can reduce the TB bacteria count in patients over two weeks. We'll look at how the bacteria amounts change from the start of the treatment to day 14. We also want to understand how the drug behaves in the body and how safe it is. One more thing we're checking is how quickly GSK3036656 starts to work - from the very beginning to day 2, and then from day 2 to day 14.\\n\\nTrial Design: The study involves testing groups of patients one after the other. Within each group, three out of every four patients will receive GSK3036656, while others will get the regular TB treatment. This study is ï¿½open-labelï¿½, which means both the patients and the doctors will know which treatment they're getting. The doctors analyzing the lab tests won't know, to make sure their results are unbiased. All in all, we expect each patient's involvement in the study to last for about 5 weeks.\\n\\nTrial Population: We'll include up to 100 participants, divided into five groups. Our participants are adults, aged 18-65, diagnosed with a fresh case of TB but they haven't yet started treatment. Their TB must be detectable in their sputum (coughed-up material). We have a list of health standards they must meet, for example their heart and kidney must function well. They should not be suffering from other severe TB forms, allergic reactions, skin condition called vitiligo, alcohol or drug abuse, or certain illnesses associated with HIV infection. They also shouldn't be on other clinical trials or taking certain medicines.\\n\\nInterventions: The study investigates the impact of GSK3036656. It comes in a capsule form and we'll look at doses of 1 mg, 5 mg, or 25 mg. It's taken orally, or by mouth. We'll compare it to the standard TB treatment of a combination of four different drugs, given in a form of a pill. The treatment will last two weeks, but all participants will switch to the regular TB treatment after the study.\"]"
      ]
     },
     "execution_count": 108,
     "metadata": {},
     "output_type": "execute_result"
    }
   ],
   "source": [
    "# REad output txt files\n",
    "import os\n",
    "texts_plain_gpt4 = []\n",
    "for filename in os.listdir(\"output\"):\n",
    "    with open(f\"output/{filename}\", \"r\") as file:\n",
    "        texts_plain_gpt4.append(file.read())\n",
    "texts_plain_gpt4"
   ]
  },
  {
   "cell_type": "code",
   "execution_count": 109,
   "metadata": {},
   "outputs": [
    {
     "data": {
      "text/plain": [
       "['Plain Protocol Title: Study on Anifrolumab Treatment for Lupus\\n\\nRationale: Researchers are looking for a better way to treat systemic lupus erythematosus (SLE). SLE is a chronic autoimmune disease that affects many parts of the body. It can cause various symptoms and can lead to serious health problems. Current treatments for SLE have limitations and side effects. This study aims to evaluate the effectiveness and safety of anifrolumab, a medication given through an intravenous treatment, compared to a placebo in adults with moderate to severe SLE.\\n\\nObjectives: The main goal of this study is to see if anifrolumab is better than a placebo at reducing disease activity in people with SLE. The secondary objectives include evaluating the effects of anifrolumab on specific symptoms of SLE, such as joint pain and skin rash.\\n\\nTrial Design: This study is a Phase 3, multicenter, double-blind, placebo-controlled trial. Participants will receive either anifrolumab or a placebo intravenously every 4 weeks for a total of 13 doses. The study will last for 52 weeks, and participants will be closely monitored during this time.\\n\\nTrial Population: Adults aged 18 to 70 with moderate to severe SLE and who are already receiving standard of care treatment, such as corticosteroids, antimalarial drugs, or immunosuppressants, can participate in the study. Certain criteria regarding disease activity and medication use must be met for eligibility.\\n\\nInterventions: Participants will receive either a 300mg dose of anifrolumab or a placebo intravenously every 4 weeks for 52 weeks. The medication will be administered through an infusion pump over a minimum of 30 minutes. Participants will continue to receive their standard of care treatment along with the study medication. The goal is to evaluate the effectiveness and safety of anifrolumab compared to a placebo in reducing disease activity and improving symptoms of SLE.\\n\\nThe generated Protocol Plain Language Summary adheres to the provided instructions, follows plain language guidelines, and provides a simplified and understandable description of the clinical trial. The length of the summary falls within the recommended range of 500-900 words.',\n",
       " 'Plain Protocol Title: Study of Anifrolumab for Systemic Lupus Erythematosus\\n\\nRationale: Researchers are looking for a better way to treat systemic lupus erythematosus (SLE), a chronic autoimmune disease that mainly affects women. SLE causes various symptoms and can lead to loss of physical function, lower quality of life, and a shortened lifespan. Current treatments have limitations and often require long-term use of corticosteroids, which can have negative side effects. Anifrolumab is a potential new treatment that targets the immune system and may reduce the need for corticosteroids.\\n\\nObjectives: The main goal of this study is to evaluate the effectiveness and safety of anifrolumab compared to a placebo in adults with moderately to severely active SLE. The study will measure the proportion of subjects who achieve a certain level of improvement in disease activity over a period of one year. Secondary objectives include evaluating the effect of anifrolumab on specific disease manifestations and reducing corticosteroid use.\\n\\nTrial Design: This study is a Phase 3 clinical trial, which means it is a large-scale study to assess the effectiveness and safety of anifrolumab. It will be conducted at multiple research centers and will involve random assignment of participants to receive either anifrolumab or a placebo. The study will last for one year, with participants receiving intravenous infusions of the study drug every 4 weeks.\\n\\nTrial Population: The study will include adult individuals aged 18 to 70 years who have been diagnosed with SLE. Participants must be currently receiving standard of care treatments such as corticosteroids, antimalarial drugs, or immunosuppressants. They must also meet certain criteria for disease activity as confirmed by a panel of experts.\\n\\nInterventions: Participants will receive either anifrolumab or a placebo through intravenous injections every 4 weeks for a total of 13 doses over one year. Anifrolumab is a type of monoclonal antibody that inhibits the activity of certain proteins involved in the immune response. The route of administration is through a vein using an infusion pump. Participants will also continue to receive their standard medications for SLE.\\n\\nCompliance with Plain Language Guidelines:\\n- This plain language summary has a readability grade level of 6 or below.\\n- It does not contain jargon and technical medical terms are explained in simple language.\\n- The summary is written in active voice with mostly one or two syllable words.\\n- Sentences are kept to 15 words or less and paragraphs are short.\\n- Simple numbers are used instead of percentages.\\n \\n(Note: Due to the specific requirements of the PPLS and the length limitations, some information from the protocol text has been excluded from this summary.)',\n",
       " 'Plain Protocol Title: Study of a New Treatment for Systemic Lupus Erythematosus\\n\\nRationale: Researchers are looking for a better way to treat systemic lupus erythematosus, a chronic autoimmune disease that affects many parts of the body. This disease can cause symptoms such as rashes, joint pain, and organ damage. The study aims to understand the long-term safety and tolerability of a new medication called anifrolumab, which has the potential to treat the condition.\\n\\nObjectives: The main goal of the study is to assess the long-term safety and tolerability of anifrolumab. Secondary objectives include evaluating the occurrence of adverse events and measuring the effectiveness of the treatment.\\n\\nTrial Design: This is a Phase 3 study that will last approximately 3 years. Participants who have completed a previous Phase 3 study will continue to receive either anifrolumab or a placebo every 4 weeks for up to 39 doses. The medication will be given through an intravenous infusion that takes at least 30 minutes.\\n\\nTrial Population: Adult participants who have completed a previous Phase 3 study for systemic lupus erythematosus will be eligible to participate. They may be taking other medications to manage their condition. There are no specific requirements for the severity of disease activity to be included in the study.\\n\\nInterventions: Participants will receive either anifrolumab or a placebo every 4 weeks for up to 3 years. The medication will be given through an intravenous infusion that takes at least 30 minutes. Anifrolumab is a type of medication that targets the immune system to help control the symptoms of systemic lupus erythematosus. Diagnostic and monitoring procedures will be conducted during the study to assess the safety and effectiveness of the treatment. A placebo is used as a comparison to evaluate the effects of anifrolumab.\\n\\nThis study aims to understand the long-term safety and tolerability of anifrolumab, a new treatment for systemic lupus erythematosus. The study will involve adult participants who have completed a previous Phase 3 study for the condition. Participants will receive either anifrolumab or a placebo every 4 weeks for up to 3 years. The medication will be given through an intravenous infusion. The study will assess the occurrence of adverse events and measure the effectiveness of the treatment. The information collected from this study will contribute to the development of better treatment options for systemic lupus erythematosus. Approximately 575 subjects will be enrolled in the study.',\n",
       " 'Plain Protocol Title: A Study to Evaluate the Safety and Efficacy of Durvalumab and Tremelimumab Combination Therapy or Durvalumab Monotherapy in Advanced Cancers\\n\\nRationale: Researchers are looking for a better way to treat advanced solid tumors. These tumors can cause a lot of harm to patients and current treatments may not be effective for everyone. The main goal of this study is to see if a combination of two medications, durvalumab and tremelimumab, or just durvalumab alone, can be a safer and more effective treatment for different types of solid tumors. This study is needed because the combination therapy or monotherapy has the potential to treat these cancers better than current treatment options.\\n\\nObjectives: The main goal of this study is to assess the safety, tolerability, and anti-tumor activity of the combination of durvalumab and tremelimumab or durvalumab alone in patients with advanced solid tumors. The specific objectives of the trial include measuring the incidence, severity, and outcome of adverse events (side effects) in patients receiving the study medications. Additionally, the study will evaluate the overall survival of patients and explore any additional secondary objectives specific to different tumor types.\\n\\nTrial Design: This study is an open-label, multi-center trial. It will include a screening period, a treatment period, a safety follow-up period of 90 days, and a survival follow-up period of up to 5 years. During the treatment period, patients will receive the study medications through intravenous infusion. The duration of the study will be approximately 2 to 3 years, with a total duration of 4 to 5 years.\\n\\nTrial Population: Patients who will participate in this study are those with advanced solid tumors who meet specific inclusion and exclusion criteria. The study will include patients of at least 18 years of age with a life expectancy of at least 12 weeks. Patients should not have received prior anti-PD-1 or anti-PD-L1 treatment, and they should not have certain medical conditions that may interfere with the study.\\n\\nInterventions: The study will evaluate the combination therapy of durvalumab 1,500 mg and tremelimumab 75 mg, given through intravenous infusion every 4 weeks for up to 4 doses. After the combination therapy, patients will continue with durvalumab monotherapy, receiving 1,500 mg via intravenous infusion every 4 weeks. Alternatively, patients may receive durvalumab monotherapy alone, receiving the same dose and frequency of infusion. The study will also include monitoring and diagnostic procedures to ensure patient safety.\\n\\nIn conclusion, this study aims to evaluate the safety and efficacy of durvalumab and tremelimumab combination therapy or durvalumab monotherapy in patients with advanced solid tumors. It will assess the incidence and severity of side effects, measure overall survival, and explore additional objectives specific to different tumor types. Patients who meet specific criteria will receive the study medications via intravenous infusion over a period of time. The study will span approximately 2 to 3 years with a total duration of 4 to 5 years.',\n",
       " 'Plain Protocol Title: Study of GSK3196165 for Rheumatoid Arthritis Treatment\\n\\nRationale: Researchers are looking for a better way to treat rheumatoid arthritis (RA), a chronic disease that causes joint pain and swelling. RA affects many people and can lead to disability. This study aims to test the safety and effectiveness of GSK3196165, a new medication, in combination with methotrexate (MTX), for adults with moderate to severe RA who have not responded well to MTX. GSK3196165 has the potential to improve RA symptoms and provide a new treatment option.\\n\\nObjectives: The goals of the study are to compare the effectiveness of GSK3196165 at doses of 90 mg and 150 mg per week to a placebo in treating moderate to severe RA. Secondary objectives include comparing the effectiveness of GSK3196165 to an active comparator, tofacitinib, and assessing the impact of GSK3196165 on patient-reported outcomes. The study will also evaluate the safety and immunogenic potential of GSK3196165.\\n\\nTrial Design: The study will last for 52 weeks. Participants will be randomly assigned to one of six treatment groups: GSK3196165 150 mg per week, GSK3196165 90 mg per week, tofacitinib capsules 5 mg twice a day, or a placebo. All participants will continue taking MTX during the study. After 12 weeks, participants in the placebo groups will switch to an active treatment. There will be an additional 8-week safety follow-up visit for participants who do not continue into a long-term extension study.\\n\\nTrial Population: The study will include adults with moderate to severe RA who have not responded well to MTX. Participants must meet certain criteria, including having active disease, a specific level of tender and swollen joints, and elevated C-reactive protein. Other eligibility criteria include a minimum duration of RA, the presence of bone erosion on X-ray, and a stable dose of MTX for at least 8 weeks.\\n\\nInterventions: Participants will receive either GSK3196165 injections or a placebo in combination with MTX. The injections will be given subcutaneously (under the skin). The treatment period will be 52 weeks, with an additional 8-week safety follow-up for some participants. Diagnostic and monitoring procedures may be performed as part of the study. The use of a placebo is justified to compare the effectiveness of GSK3196165 to no treatment.\\n\\nThrough this study, researchers aim to find a better treatment option for people with moderate to severe RA who have not responded well to MTX. The study will compare the effectiveness of GSK3196165 to a placebo and tofacitinib, as well as assess the impact on patient-reported outcomes. By understanding the safety and efficacy of GSK3196165, this study has the potential to improve the lives of individuals living with RA.',\n",
       " \"Plain Protocol Title: Evaluation of Otilimab IV for Severe COVID-19 Related Lung Disease\\n\\nRationale: Researchers are looking for a better way to treat severe lung disease caused by COVID-19. This disease can cause breathing problems and requires oxygen support or mechanical ventilation. The study aims to evaluate the safety and effectiveness of otilimab, a medication that targets the inflammation in the lungs caused by COVID-19.\\n\\nObjectives: The main goal of this study is to compare the effectiveness of otilimab to a placebo in treating severe COVID-19 related lung disease. The secondary goal is to assess the safety and tolerability of otilimab compared to the placebo.\\n\\nTrial Design: This study is a randomized, double-blind, placebo-controlled trial. It will be conducted at multiple centers and will consist of two parts. Participants will receive either otilimab or a placebo in addition to standard care. The study will assess the participants' respiratory status and follow them for a specified period of time.\\n\\nTrial Population: The study will include hospitalized participants with severe COVID-19 related lung disease who require significant oxygen support or mechanical ventilation. Participants must be between the ages of 18 and 79 and have a positive test for COVID-19. They must also show signs of inflammation and pneumonia. Some individuals may be excluded if they have certain medical conditions or are receiving certain treatments.\\n\\nInterventions: Participants will be randomly assigned to receive a single intravenous infusion of either otilimab or a placebo. The treatment will be administered over a one-hour period. All participants will continue to receive standard care as recommended by their healthcare providers.\\n\\nIn conclusion, this study aims to evaluate the effectiveness and safety of otilimab in treating severe lung disease caused by COVID-19. Participants will receive either otilimab or a placebo, and their respiratory status will be closely monitored. The study will provide valuable information on the potential benefits of otilimab as a treatment for severe COVID-19 related lung disease.\",\n",
       " 'Plain Protocol Title: New Treatment for Head and Neck Squamous Cell Carcinoma\\n\\nRationale: Researchers are looking for a better way to treat head and neck squamous cell carcinoma (HNSCC). HNSCC is a type of cancer that can come back or spread to other parts of the body. The main goal of this study is to see if a new medication called GSK3359609 can improve the effectiveness of another medication called pembrolizumab and chemotherapy for HNSCC. The study medication has the potential to treat the cancer and improve patient outcomes.\\n\\nObjectives: The main goal of the study is to compare the effectiveness of the combination of GSK3359609, pembrolizumab, and chemotherapy to a placebo (inactive substance) in combination with pembrolizumab and chemotherapy. The study will measure how well the treatments work in the total population of patients with HNSCC and in patients who have a certain level of a protein called PD-L1. Secondary objectives include evaluating the safety and tolerability of the medications and assessing the impact of the treatment on symptoms and quality of life.\\n\\nTrial Design: This study is designed to be a randomized, double-blinded, Phase II/III study. Participants with recurrent or metastatic HNSCC will be assigned randomly to receive either the combination of GSK3359609 with pembrolizumab and chemotherapy or a placebo with pembrolizumab and chemotherapy. The study will last for approximately two years, with a maximum of 35 treatment cycles.\\n\\nTrial Population: The study will include approximately 640 participants with recurrent or metastatic HNSCC. Participants must be at least 18 years old, have a diagnosis of HNSCC in the oral cavity, oropharynx, hypopharynx, or larynx, and have not received prior systemic therapy for their cancer. There are specific criteria that participants must meet to be eligible for the study, such as adequate organ function and a good overall health status.\\n\\nInterventions: Participants will receive either GSK3359609 or a placebo, along with pembrolizumab and chemotherapy. GSK3359609 is given as a 30-minute intravenous infusion, followed by pembrolizumab. The chemotherapy and pembrolizumab will be administered according to standard practices. The duration of treatment will be approximately two years, with six cycles of chemotherapy. Participants will be closely monitored for safety and any side effects related to the treatments.\\n\\nIn summary, this study aims to find a better treatment for head and neck squamous cell carcinoma (HNSCC). The study will compare the effectiveness and safety of adding GSK3359609 to pembrolizumab and chemotherapy versus using a placebo with pembrolizumab and chemotherapy. Participants with recurrent or metastatic HNSCC will be randomly assigned to one of the treatments. The study will measure how well the treatments work in different populations of patients and evaluate their impact on symptoms and quality of life. This study has the potential to improve outcomes for patients with HNSCC.',\n",
       " 'Plain Protocol Title: Study to Evaluate the Effect of Benralizumab on Allergen-Induced Asthma Inflammation\\n\\nRationale: Researchers are looking for a better way to treat asthma. Asthma is a condition that causes reversible tightening of the airways, making it difficult to breathe. Environmental allergens, like dust mites or pollen, can trigger asthma attacks. This study aims to understand how a medication called benralizumab can reduce inflammation in the airways of people with mild allergic asthma.\\n\\nObjectives: The main goal of this study is to evaluate the effect of benralizumab on allergen-induced increases in eosinophils in sputum. Eosinophils are a type of white blood cell involved in inflammation. The study also aims to assess the effect of benralizumab on other markers of inflammation, such as basophils in sputum and blood.\\n\\nTrial Design: This study is designed as a randomized, double-blind, parallel group, placebo-controlled study. Participants will receive either benralizumab or a placebo (a substance with no therapeutic effect) subcutaneously (under the skin) every 4 weeks for 3 doses. The study will last for approximately 8-12 weeks.\\n\\nTrial Population: The study will include approximately 38 non-smoking men and women between the ages of 18 and 65 with mild allergic asthma. Participants must have demonstrated a dual asthmatic response to inhaled allergens during screening. They should not be using regular asthma controller medication.\\n\\nInterventions: Participants will receive either benralizumab or a placebo as a subcutaneous injection. The medication will be given every 4 weeks for a total of 3 doses. Benralizumab is a medication that targets a specific protein involved in the production and activation of eosinophils and basophils. By blocking this protein, benralizumab can reduce inflammation in the airways.\\n\\nTrial subjects: Approximately 38 subjects will be enrolled in the study, with 19 subjects in each treatment group. These subjects should meet specific criteria, including written informed consent, an age between 18 and 65, and a diagnosis of mild allergic asthma with a positive response to inhaled allergen challenge.\\n\\nExclusion criteria: Some individuals will not be eligible to participate in the study. Exclusion criteria include recent worsening of asthma, certain lung diseases, history of cardiovascular or neurological conditions, immunodeficiency disorders, and use of certain medications. Pregnant or lactating individuals are also excluded.\\n\\nNumber of Trial Subjects: Approximately 38 subjects in total, with 19 subjects in each treatment group, will be needed for this study based on the choice of two primary endpoints.\\n\\nTreatment Groups: Participants will be randomly assigned to receive either benralizumab or placebo. Both medications will be administered as subcutaneous injections every 4 weeks for 3 doses.\\n\\nInterventions: Participants will be given benralizumab or placebo as a subcutaneous injection every 4 weeks for a total of 3 doses. Benralizumab is a medication that can reduce inflammation in the airways by targeting specific cells involved in the allergic response.\\n\\nRoute of Administration: The medication will be administered as a subcutaneous injection, which means it will be injected just under the skin.\\n\\nIndication of the Study: This study focuses on asthma, a condition characterized by reversible airway constriction, airway hyperresponsiveness, and airway inflammation. Allergic reactions to environmental allergens are a common trigger for asthma symptoms. The aim of this study is to investigate the effect of benralizumab on allergen-induced inflammation in individuals with mild allergic asthma.\\n\\nInclusion Criteria: To participate in the study, individuals must meet specific criteria, including written informed consent, being between the ages of 18 and 65, and having mild allergic asthma. Participants should not be using regular maintenance asthma medications and must have demonstrated a positive response to inhaled allergen challenge during screening.\\n\\nExclusion Criteria: Some individuals will not be able to participate in the study due to certain exclusion criteria. Examples of these criteria include recent worsening of asthma, certain medical conditions, history of cancer, alcohol or drug abuse, and planned surgery or hospitalization during the study.\\n\\nStudy Rationale: Asthma is a condition that affects the airways and causes difficulties in breathing. Allergens from the environment, such as dust mites or pollen, can trigger asthma attacks. This study aims to find a better treatment for asthma by evaluating the effects of benralizumab, a medication that can reduce inflammation in the airways. The study will focus on how benralizumab affects the immune cells involved in the allergic response, such as eosinophils and basophils. By understanding the mechanisms of allergic inflammation, researchers hope to develop more effective treatments for asthma.\\n\\nStudy Design: This study is a randomized, double-blind trial, meaning that participants will be randomly assigned to receive either benralizumab or a placebo. The study will last for approximately 8-12 weeks. Participants will receive the medication or placebo as a subcutaneous injection every 4 weeks for 3 doses. The main endpoints of the study are the effects of benralizumab on eosinophils in sputum and the late asthmatic response.\\n\\nTrial Population: Approximately 38 individuals with mild allergic asthma will be recruited for this study. Participants must be non-smokers between the ages of 18 and 65. They should not be using regular asthma medications and must have demonstrated a positive response to inhaled allergen challenge during screening.\\n\\nInterventions: Participants will be randomly assigned to receive either benralizumab or placebo. Both medications will be administered as subcutaneous injections every 4 weeks for 3 doses. Benralizumab is a medication that can specifically target certain cells involved in inflammation and reduce their numbers. This can help alleviate asthma symptoms and reduce airway inflammation.\\n\\nThese interventions will be administered under the supervision of healthcare professionals at the study center. The study will also involve collecting sputum samples, lung tissue biopsies, and other assessments to measure the effects of the treatment.\\n\\nRoute of Administration: Both benralizumab and placebo will be administered as subcutaneous injections, meaning that the medication will be injected just under the skin. This route of administration allows for the medication to be absorbed into the bloodstream and reach the target cells in the airways.\\n\\nOverall, this study aims to evaluate the effect of benralizumab on allergen-induced inflammation in individuals with mild allergic asthma. By understanding how this medication can reduce inflammation, researchers hope to improve the treatment options available for individuals with asthma.',\n",
       " 'Plain Protocol Title: Study on a New Treatment for Tuberculosis\\n\\nRationale: Researchers are looking for a better way to treat tuberculosis, which is a serious health problem that causes more deaths than AIDS. The study will investigate a medication called GSK3036656, which has the potential to treat tuberculosis by suppressing protein synthesis in the bacteria.\\n\\nObjectives: The main goal of this study is to determine the effectiveness of GSK3036656 in treating tuberculosis. The study will measure the change in the number of bacteria in sputum samples over a 14-day period. The secondary objectives include assessing the safety and tolerability of the medication and studying its effect on the body.\\n\\nTrial Design: The study will involve up to five groups of participants. Each group will receive either GSK3036656 or the standard treatment for tuberculosis. The participants will be randomly assigned to one of the treatment groups. The study will last for approximately 5 weeks, including screening, treatment, and follow-up visits.\\n\\nTrial Population: The study will enroll up to 100 participants who have rifampicin-susceptible tuberculosis. The participants must be between 18 and 65 years old. They should have a chest X-ray and sputum samples that confirm the presence of tuberculosis. Other criteria for inclusion in the study will also be considered.\\n\\nInterventions: The study will involve the administration of GSK3036656 or the standard treatment, called Rifafour e-275. GSK3036656 will be taken orally in capsule form, with different doses available. Rifafour e-275 will be taken as a tablet. The treatment duration will be 2 weeks, and participants will undergo diagnostic and monitoring procedures during this period.\\n\\nIn summary, this study aims to evaluate the effectiveness and safety of GSK3036656 in treating tuberculosis. It will involve participants with rifampicin-susceptible tuberculosis, who will be randomly assigned to receive either GSK3036656 or the standard treatment. The study will assess the change in bacterial count in sputum samples over a 14-day period. The results will help determine if GSK3036656 can be an improved treatment option for tuberculosis.']"
      ]
     },
     "execution_count": 109,
     "metadata": {},
     "output_type": "execute_result"
    }
   ],
   "source": [
    "import os\n",
    "texts_plain_gpt_35 = []\n",
    "for filename in os.listdir(\"output_gpt35\"):\n",
    "    with open(f\"output_gpt35/{filename}\", \"r\") as file:\n",
    "        texts_plain_gpt_35.append(file.read())\n",
    "texts_plain_gpt_35"
   ]
  },
  {
   "cell_type": "code",
   "execution_count": 96,
   "metadata": {},
   "outputs": [],
   "source": [
    "# results_gpt4 = bertscore.compute(predictions=texts_plain_gpt4, references=texts_original, model_type=\"facebook/bart-large-mnli\")\n",
    "results_gpt4 = rouge.compute(predictions=texts_plain_gpt4, references=texts_original, use_aggregator=False)\n",
    "results_gpt_35 = rouge.compute(predictions=texts_plain_gpt_35, references=texts_original, use_aggregator=False)"
   ]
  },
  {
   "cell_type": "code",
   "execution_count": 115,
   "metadata": {},
   "outputs": [],
   "source": [
    "texts_original_L = [[text] for text in texts_original]\n",
    "# texts_plain_gpt4_L = [[text] for text in texts_plain_gpt4]\n",
    "# texts_plain_gpt_35_L = [[text] for text in texts_plain_gpt_35]"
   ]
  },
  {
   "cell_type": "code",
   "execution_count": 114,
   "metadata": {},
   "outputs": [
    {
     "data": {
      "text/plain": [
       "[\"Plain Protocol Title: Testing the Effectiveness and Safety of Anifrolumab in Adults with Active Lupus\\n\\nRationale: Lupus is a chronic illness that affects the immune system and can cause different health problems throughout the body. The disease can cause fatigue, rashes, joint pain, and kidney problems, among other things. This can lead to physical discomfort and even job loss, reducing the quality of life for patients. Right now, there's a need for better ways to treat Lupus. This study aims to see if a new medication, called Anifrolumab, can safely and effectively treat adults with active Lupus. \\n\\nObjectives: The main goal of this study is to see if Anifrolumab can improve Lupus symptoms better than a placebo, after one year of treatment. Improvement will be measured using a special assessment tool called the British Isles Lupus Assessment Group-based Composite Lupus Assessment (BICLA). This tool checks a variety of signs and symptoms of Lupus, looking for improvements. Other objectives include seeing whether the medication can reduce skin rash severity and joint pain, lower the dose of other Lupus medicines needed, and if it can be safely tolerated.\\n\\nTrial Design: This study is conducted across different locations and will include around 360 adults with Lupus, aged between 18 and 70. Half of the participants will receive Anifrolumab and the other half will receive a placebo (a treatment with no active medication), both given through an IV (a drip into the vein). This is completely random and neither the patient nor the doctors will know which treatment they’re getting, to make the results more reliable. The treatment will be given once every 4 weeks for 48 weeks (around 1 year), and the effects of the treatment will be measured at the end of this one-year period.\\n\\nTrial Population: This study will involve adults between the ages of 18 and 70, who have moderate to severe Lupus which is marked by the presence of certain antibodies. Participants must already be on treatment for Lupus, including oral corticosteroids, antimalarials, and/or immunosuppressants. \\n\\nInterventions: The treatment being tested is called Anifrolumab. It will be given through an IV (a drip into the vein) every 4 weeks over a course of one year. This medication will be compared to a placebo. A placebo looks just like the Anifrolumab treatment but it doesn't have any medication in it. The use of a placebo helps researchers see if the effects of Anifrolumab are due to the treatment itself or are psychological. All participants will also continue their usual Lupus treatments alongside the study medication or placebo. In this study, we will measure changes in Lupus symptoms and check for any side effects.\",\n",
       " \"Plain Protocol Title: A Study to Test if Anifrolumab is Safe and Helps Adults with Active Lupus\\n\\nRationale: Systemic Lupus Erythematosus (Lupus) is a chronic disease that causes inflammation in various parts of the body, leading to fatigue, joint pain, rash, and potentially severe organ damage. Because current treatments don't work well for everyone and can cause serious side effects, researchers are looking for a better way to treat this condition. This study is needed to test a new medication called Anifrolumab. Anifrolumab works by blocking a part of the body's immune system thought to contribute to lupus. Researchers hope that this will reduce the disease's activity and improve symptoms.\\n\\nObjectives: The main goal of this study is to see if Anifrolumab helps lessen lupus activity compared to a placebo. We'll measure this by counting the number of patients who show a reduction in their lupus symptoms after a year. We also aim to see if Anifrolumab reduces the need for other lupus medications and if it improves skin symptoms in certain patients. \\n\\nTrial Design: This study will include roughly 450 adults with moderately or severely active lupus. Patients will randomly receive either Anifrolumab or a placebo, alongside their usual treatments. They will receive the assigned treatment through an IV (a small tube in a vein) every four weeks for a year. Neither the patient nor their doctor will know if they are receiving Anifrolumab or the placebo. \\n\\nTrial Population: Adult patients, ranging from 18 to 70 years, who have moderately or severely active lupus can participate in this study. Patients must have certain levels of active lupus assessed by specific health scores, and they should already be receiving certain lupus treatments, like oral steroids, antimalarial drugs, or immune suppressants. This study seeks to include both men and women, but women who are pregnant, plan to become pregnant, or are breastfeeding, cannot participate. \\n\\nInterventions: Patients will receive either Anifrolumab (two different doses are tested) or a placebo through an IV every four weeks. The placebo is used as a comparison to see if the potential benefits are due to the Anifrolumab, and not a response to receiving an injection. We'll be observing how the patient responds to these treatments and monitoring any side effects that may occur.\",\n",
       " \"Plain Protocol Title: Testing the Long-Term Safety of Anifrolumab for Adults with Active Systemic Lupus Erythematosus\\n\\nRationale: Researchers are trying to find better ways to treat Systemic Lupus Erythematosus (SLE). SLE is a long-term illness where the body's immune system starts attacking its own cells, leading to various symptoms like rashes, joint pain, kidney problems, and brain function issues. It mostly affects women of child-bearing age. Current treatments for SLE often have significant side effects, and there’s an immediate need for safer and more effective options. This study will test a medication called Anifrolumab, which may slow down the immune system response and reduce the requirement for existing treatments.\\n\\nObjectives: The main goal is to see if Anifrolumab is safe and can be tolerated in the long term by adults suffering from SLE. We will measure this by counting any change in the numbers of side effects or negative reactions during the study.\\n\\nTrial Design: This is a study where participants are selected at random to receive either Anifrolumab or a placebo (medicine having no effect) through an IV (a tube that goes into your vein). Participants will not know which one they are receiving. The treatment will last for about 3 years. Every 4 weeks, a dose of the treatment or placebo will be given. We plan to include approximately 575 people in the study who have already participated in a prior study with Anifrolumab.\\n\\nTrial Population: Adults who have already completed a previous study on Anifrolumab and have moderate to severe active SLE are eligible to participate. Participants can be taking medicines like oral corticosteroids, azathioprine, or antimalarials and do not need to have a specific level of disease activity to join this follow-up study. People already participating in another clinical trial or women who intend to become pregnant during the study cannot participate.\\n\\nInterventions: You will receive Anifrolumab (300 mg) or a placebo through an IV every 4 weeks. The treatment will run for up to 39 rounds (0 week to 152nd week). The medicine or placebo dose will be given through an infusion pump over 30 minutes. Anifrolumab has been developed to potentially slow down your immune response which is overactive in SLE. If a placebo is used, it's to compare the effects with the actual drug and assess the drug's effectiveness correctly.\\n\",\n",
       " 'Plain Protocol Title: Testing the Safety of Cancer Medicines Durvalumab Alone or with Tremelimumab\\n\\nRationale: Many people are dealing with cancer or \"solid tumors\". This is hard for them because their bodies aren\\'t able to fight off the cancer cells effectively. Scientists believe there might be a better way to tackle cancer by using medicines called durvalumab and tremelimumab. These medications could help the body\\'s defense system, known as the immune system, recognize and fight cancer cells. This study needs to be done to see if using these medications either alone or together is safe and beneficial to treat people with cancer.\\n\\nObjectives: We want to find out how safe it is for patients with cancer to take a fixed dose of either durvalumab alone or with tremelimumab. We\\'ll measure how many patients have side effects from the medicines, what those side effects are, how serious they are, and if they go away by themselves or need treatment. Another thing we want to see is how long patients live after getting these treatments. \\n\\nTrial Design: This study will include patients from different places and hospitals. It is an open study, so everyone will know what treatment they are getting. Patients will be treated with the medications for as long as they are benefiting and not having serious side effects. Any side effects will be followed for 90 days after treatment ends. We will also check on the patients every 3 months for up to 5 years to see how they are doing.\\n\\nTrial Population: This study is for adults 18 years and older who have cancer that can\\'t be cured by surgery. They should not have been treated with certain immune system drugs previously. They need to be feeling well enough to do normal things like walking, and need to have normal organ and marrow function as measured by blood tests.\\n\\nInterventions: Patients will be given one of two treatments. One group will get a combined treatment of durvalumab and tremelimumab given through an IV drip into the arm every 4 weeks for up to 4 doses. Then, they will receive durvalumab alone every 4 weeks. Another group will get durvalumab alone every 4 weeks from the start. A placebo will not be used in this study because all patients need an active treatment due to their cancer condition.\\n',\n",
       " \"Plain Protocol Title: An A Year Long Study of a New Treatment in Combination with Methotrexate for People with Severe Rheumatoid Arthritis\\n\\nRationale: Rheumatoid arthritis (RA) is a condition where the bodyï¿½s immune system attacks its own tissues, causing painful swelling in joints, which can be very hard for patients to live with. Some people with RA don't respond well to existing treatments, so we are seeking a better way to treat this condition. Our study tests the drug GSK3196165, in combination with another known drug, methotrexate. We believe this approach has the potential to help people with severe RA. \\n\\nObjectives: The main goal of our study is to see if GSK3196165 (a new drug) given at two different doses can better help people who have severe RA and who have not found relief with methotrexate alone. We will measure this by looking at the change in the number of joint swellings and pain from the start to the end of the study.\\n\\nWe also want to compare the new drug to another known drug, tofacitinib, and assess the patient's experiences during treatment. We will also monitor the safety and tolerability of GSK3196165, as well as how the body may react to the drug.\\n\\nTrial Design: This study will happen in different places and will last for about a year and two months. The first one and a half month will be for patient checks and assessments. Then, the actual treatment will start, and carry on for a year. After the treatment, there will be a two-month follow-up period. \\n\\nTrial Population: This study is open to both men and women over the age of 18 who are living with severe RA that hasn't improved with methotrexate. The patients should have been suffering from RA for at least six months and must agree to continue or begin taking folic acid, a vitamin usually given with methotrexate. People who have previously been treated with certain RA drugs (bDMARDs) cannot be more than 20% of all the patients in the study.\\n\\nInterventions: Patients will receive one of two doses of the new drug (90 or 150 milligrams), a known drug called tofacitinib, or a placebo through a weekly under-the-skin injection. All these will be given along with ongoing methotrexate treatment. If a patient gets a placebo, they will start getting an active treatment at week 12. The injection time will be set in the schedule of activities (SoA). Anyone who takes part in this study might also get the chance to be in a long-term extension of this study.\",\n",
       " 'Plain Protocol Title: A Study to Test the Safety and Effectiveness of Otilimab in Patients with Severe Lung Disease Due to COVID-19\\n\\nRationale: Researchers are trying to find a better way to treat severe lung disease caused by COVID-19. This disease can greatly reduce a patient\\'s ability to breathe and can also be severe enough to require hospitalization or use of a breathing machine. Otilimab is a medicine that has shown positive results in calming down overactive immune responses. This is important because when COVID-19 gets severe, it\\'s often because the body\\'s immune system is overacting and damaging its own cells instead of just fighting off the virus. Thus, there is a reason to believe that Otilimab can help treat this severe lung disease by calming down this overactive immune response.\\n\\nObjectives: The main goal of this study is to see if Otilimab can improve breathing in patients with severe COVID-19 lung disease compared to a placebo (a substance that has no therapeutic effect used as a control in testing new drugs). We will determine this by measuring the change in patients\\' need for oxygen support or use of a breathing machine. As secondary goals, we also want to check if Otilimab can provide other benefits to patients and whether it is safe to use.\\n\\nTrial Design: This study is planned to be performed in different hospitals. Participants will be randomly chosen to get either Otilimab or placebo, along with the usual care for severe COVID-19 lung disease. We don\\'t know who will get which (that\\'s the \"double-blind\" part). We\\'ll monitor the health status of each participant daily until they leave the hospital (or up to 28 days) and have follow-ups 42 and 60 days after the treatment starts. \\n\\nTrial Population: This study is for adults aged between 18-79 years who have a positive test for COVID-19 and are in the hospital because of severe lung disease caused by the virus. To be eligible, participants also need to have recently started needing significant oxygen support, such as high-flow oxygen, non-invasive ventilation, or mechanical ventilation. Participants cannot join if they have certain pre-existing conditions or are taking immunosuppressant medicines or treatments for diseases other than COVID-19.\\n\\nInterventions: Participants will receive a one-time infusion (direct injection into the blood) of either Otilimab or a placebo. This will be in addition to the standard care they are already receiving for their condition. We\\'re using a placebo so we can be sure that any changes we see are due to Otilimab and not just the standard care or random chance.',\n",
       " \"Plain Protocol Title: Studying a New Cancer Drug Combo vs Placebo for Head & Neck Cancer \\n\\nRationale: This study is for people with a certain cancer of the head and neck. The technical name for this is 'recurrent/metastatic head and neck squamous cell carcinoma.' This cancer can spread or come back after treatment, causing problems for patients. We are looking for a better way to treat this. The new approach uses a drug called GSK3359609 along with two other drugs, pembrolizumab and 5FU-platinum based chemotherapy. We believe this mix might work better than just pembrolizumab and the chemotherapy on their own. Another group of patients will get a sugar pill (placebo) instead of GSK3359609 alongside the other two drugs. \\n\\nObjectives: Our main goal is to see if adding GSK3359609 to the other drugs works better against cancer than using a placebo with the other drugs. We'll measure this by comparing the number of cancer events from before and after treatment. We also want to look at the potential side effects and how well patients feel during this treatment.\\n\\nTrial Design: The study will have two parts and will use a luck-of-the-draw method to decide who gets which treatment. There will be three main parts for each person in the study - screening, treatment, and follow-up. After screening to make sure you are a good fit, you'll be put into one of two treatment groups. If you're in the study for the full time, you'll be getting the treatment for roughly 2 years. \\n\\nTrial Population: The study will include about 640 adults (18 or older) with this type of head and neck cancer. It doesn't matter if you're a man or a woman, but you need to have had this cancer come back or spread after your first treatment. If this study grows to include more people, up to 275 of them will have high levels of a certain molecule (PD-L1) in their cancer cells.\\n\\nInterventions: During the study, we'll be giving people several drugs. GSK3359609, pembrolizumab, and 5FU-platinum chemotherapy, or a placebo instead of GSK3359609. The plan is to give the drug mix for 6 rounds (each 21 days long). Then, we'll continue on with just pembrolizumab and GSK3359609, or the placebo, for up to 35 rounds. All these drugs will be given in a vein in your arm. The use of a placebo will help us understand if the added treatment is effective.\",\n",
       " \"Plain Protocol Title: Testing the Impact of the Medicine Benralizumab on Asthma Symptoms in an Easy-to-Understand Study \\n\\nRationale: Asthma is a common condition that can cause problems breathing. Some of these problems are due to the body responding too strongly to things like air particles, causing inflammation and discomfort. In this study, scientists want to find a better way to treat asthma. They are studying a medicine called benralizumab that might help reduce this overreaction in non-smokers who have a mild form of asthma caused by allergies. They believe the medicine might help by reducing inflammation, making it easier for people with asthma to breathe. This study will test this idea to see if benralizumab is effective for patients with asthma.\\n\\nObjectives: The main goal of this study is to see if benralizumab can affect the body's response to allergens (things that cause allergies). Specifically, researchers want to see if the medicine reduces the number of specific cells, called eosinophils, in patients' spit after being exposed to allergens. These cells increase in number when the body reacts to allergens, which can make asthma symptoms worse. Additionally, the study hopes to find out if the medicine can lessen patientsï¿½ asthma response a few hours after exposure to allergens. Other goals include testing whether the medication reduces the number of these cells in lung tissue and blood. \\n\\nTrial Design: Participants in this study will be split into two groups. One group will get the medicine benralizumab, while the other will get a placebo, or fake medicine that doesn't have any effects. None of the participants will know which one they get. The drug will be given under the skin every 4 weeks, three times in total. Later, the patients' reactions to allergens will be tested. The whole study will take several months to complete.\\n\\nTrial Population: This research study will involve nearly 40 people, both men and women. To participate, you should be between 18 and 65 years old, with asthma symptoms triggered by allergies. You have to be a non-smoker, and not taking any long-term medicines for asthma. You should also be generally healthy and able to give a spit sample when asked.\\n\\nInterventions: During the study, you will be given an injection of benralizumab or a placebo (meaning it contains no real medicine) under your skin every four weeks, for a total of three doses. You wonï¿½t know whether youï¿½re getting the real drug or placebo. Then, the doctors will expose you to an allergen, and check your response. They will do this by counting eosinophils in your spit and blood and checking your lung function. They will repeat this process to obtain two sets of data.\",\n",
       " \"Plain Protocol Title: A Study on Safely Testing a New TB Medicine (GSK3036656) in Patients with Regular ï¿½Drug-Sensitiveï¿½ TB.\\n\\nRationale: Researchers are working to find improved treatments for tuberculosis (TB). TB is a severe disease, causing even more deaths than AIDS. Right now, we have a potential TB treatment, a drug called GSK3036656, which stops the bacteria from growing. This research will look at how well GSK3036656 works against the bacteria responsible for TB, specifically in patients with a common kind of TB that can still be treated with usual drugs. This drug is important because TB is still widespread and the existing treatments don't work well enough, and can lead to the bacteria growing resistant to them. We also need to be able to treat the more stubborn, drug-resistant strains of TB. \\n\\nObjectives: The main goal of the study is to see how much GSK3036656 can reduce the TB bacteria count in patients over two weeks. We'll look at how the bacteria amounts change from the start of the treatment to day 14. We also want to understand how the drug behaves in the body and how safe it is. One more thing we're checking is how quickly GSK3036656 starts to work - from the very beginning to day 2, and then from day 2 to day 14.\\n\\nTrial Design: The study involves testing groups of patients one after the other. Within each group, three out of every four patients will receive GSK3036656, while others will get the regular TB treatment. This study is ï¿½open-labelï¿½, which means both the patients and the doctors will know which treatment they're getting. The doctors analyzing the lab tests won't know, to make sure their results are unbiased. All in all, we expect each patient's involvement in the study to last for about 5 weeks.\\n\\nTrial Population: We'll include up to 100 participants, divided into five groups. Our participants are adults, aged 18-65, diagnosed with a fresh case of TB but they haven't yet started treatment. Their TB must be detectable in their sputum (coughed-up material). We have a list of health standards they must meet, for example their heart and kidney must function well. They should not be suffering from other severe TB forms, allergic reactions, skin condition called vitiligo, alcohol or drug abuse, or certain illnesses associated with HIV infection. They also shouldn't be on other clinical trials or taking certain medicines.\\n\\nInterventions: The study investigates the impact of GSK3036656. It comes in a capsule form and we'll look at doses of 1 mg, 5 mg, or 25 mg. It's taken orally, or by mouth. We'll compare it to the standard TB treatment of a combination of four different drugs, given in a form of a pill. The treatment will last two weeks, but all participants will switch to the regular TB treatment after the study.\"]"
      ]
     },
     "execution_count": 114,
     "metadata": {},
     "output_type": "execute_result"
    }
   ],
   "source": [
    "texts_plain_gpt4"
   ]
  },
  {
   "cell_type": "markdown",
   "metadata": {},
   "source": []
  },
  {
   "cell_type": "code",
   "execution_count": 117,
   "metadata": {},
   "outputs": [],
   "source": [
    "results_gpt4 = meteor.compute(predictions=texts_plain_gpt4, references=texts_original)\n",
    "results_gpt_35 = meteor.compute(predictions=texts_plain_gpt_35, references=texts_original)"
   ]
  },
  {
   "cell_type": "code",
   "execution_count": 118,
   "metadata": {},
   "outputs": [
    {
     "data": {
      "text/plain": [
       "{'meteor': 0.23764537042621933}"
      ]
     },
     "execution_count": 118,
     "metadata": {},
     "output_type": "execute_result"
    }
   ],
   "source": [
    "results_gpt4"
   ]
  },
  {
   "cell_type": "code",
   "execution_count": 22,
   "metadata": {},
   "outputs": [
    {
     "name": "stderr",
     "output_type": "stream",
     "text": [
      "Special tokens have been added in the vocabulary, make sure the associated word embeddings are fine-tuned or trained.\n"
     ]
    }
   ],
   "source": [
    "# microsoft/deberta-v3-base\n",
    "results_deberta_v3_gpt4 = bertscore.compute(predictions=texts_plain_gpt4, references=texts_original, model_type=\"microsoft/deberta-v3-base\")\n",
    "results_deberta_v3_gpt35 = bertscore.compute(predictions=texts_plain_gpt_35, references=texts_original, model_type=\"microsoft/deberta-v3-base\")"
   ]
  },
  {
   "cell_type": "code",
   "execution_count": 23,
   "metadata": {},
   "outputs": [
    {
     "data": {
      "image/png": "[encoded data removed]",
      "text/plain": [
       "<Figure size 1500x500 with 1 Axes>"
      ]
     },
     "metadata": {},
     "output_type": "display_data"
    }
   ],
   "source": [
    "# Plot f1 score\n",
    "f1_scores = results_deberta_v3_gpt4[\"f1\"]\n",
    "f1_scores_gpt_35 = results_deberta_v3_gpt35[\"f1\"]\n",
    "\n",
    "# plot\n",
    "\n",
    "fig, ax = plt.subplots(figsize=(15, 5))\n",
    "\n",
    "width = 0.20\n",
    "x = range(len(f1_scores))\n",
    "\n",
    "ax.bar(x, f1_scores, width, label='GPT-4', color='crimson')\n",
    "ax.bar([i + width for i in x], f1_scores_gpt_35, width, label='GPT-3.5', color='royalblue')\n",
    "ax.set_xticks([i + width for i in x])\n",
    "ax.set_xticklabels([i for i in range(len(f1_scores))])\n",
    "ax.set_title(\"Comparison of F1 scores (DeBERTa V3)\")\n",
    "ax.legend()\n",
    "\n",
    "plt.show()"
   ]
  },
  {
   "cell_type": "code",
   "execution_count": 58,
   "metadata": {},
   "outputs": [
    {
     "data": {
      "image/png": "[encoded data removed]",
      "text/plain": [
       "<Figure size 1500x500 with 1 Axes>"
      ]
     },
     "metadata": {},
     "output_type": "display_data"
    }
   ],
   "source": [
    "# Plot precisions score\n",
    "precisions_scores = results_gpt4['scores']\n",
    "precisions_scores_gpt_35 = results_gpt_35['scores']\n",
    "\n",
    "# plot\n",
    "\n",
    "fig, ax = plt.subplots(figsize=(15, 5))\n",
    "\n",
    "width = 0.20\n",
    "x = range(len(precisions_scores))\n",
    "\n",
    "ax.bar(x, precisions_scores, width, label='GPT-4', color='crimson')\n",
    "ax.bar([i + width for i in x], precisions_scores_gpt_35, width, label='GPT-3.5', color='royalblue')\n",
    "ax.set_xticks([i + width for i in x])\n",
    "ax.set_xticklabels([i for i in range(len(precisions_scores))])\n",
    "ax.set_title(\"Comparison of precisions (ROUGE)\")\n",
    "ax.legend()\n",
    "\n",
    "plt.show()"
   ]
  },
  {
   "cell_type": "code",
   "execution_count": 43,
   "metadata": {},
   "outputs": [
    {
     "name": "stderr",
     "output_type": "stream",
     "text": [
      "Downloading (…)lve/main/config.json: 100%|██████████| 866/866 [00:00<00:00, 866kB/s]\n",
      "Downloading (…)olve/main/vocab.json: 100%|██████████| 899k/899k [00:00<00:00, 5.45MB/s]\n",
      "Downloading (…)olve/main/merges.txt: 100%|██████████| 456k/456k [00:00<00:00, 3.60MB/s]\n",
      "Downloading pytorch_model.bin: 100%|██████████| 1.74G/1.74G [05:16<00:00, 5.49MB/s]\n"
     ]
    }
   ],
   "source": [
    "#  allenai/longformer-large-4096-finetuned-triviaqa\n",
    "results_longformer_gpt4 = bertscore.compute(predictions=texts_plain_gpt4, references=texts_original, model_type=\"allenai/longformer-large-4096-finetuned-triviaqa\")\n",
    "results_longformer_gpt35 = bertscore.compute(predictions=texts_plain_gpt_35, references=texts_original, model_type=\"allenai/longformer-large-4096-finetuned-triviaqa\")"
   ]
  },
  {
   "cell_type": "code",
   "execution_count": 41,
   "metadata": {},
   "outputs": [
    {
     "data": {
      "image/png": "[encoded data removed]",
      "text/plain": [
       "<Figure size 1500x500 with 1 Axes>"
      ]
     },
     "metadata": {},
     "output_type": "display_data"
    }
   ],
   "source": [
    "# Plot f1 score\n",
    "f1_scores = results_deberta_v3_gpt4[\"f1\"]\n",
    "f1_scores_gpt_35 = results_deberta_v3_gpt35[\"f1\"]\n",
    "\n",
    "# plot\n",
    "\n",
    "fig, ax = plt.subplots(figsize=(15, 5))\n",
    "\n",
    "width = 0.20\n",
    "x = range(len(f1_scores))\n",
    "\n",
    "ax.bar(x, f1_scores, width, label='GPT-4', color='crimson')\n",
    "ax.bar([i + width for i in x], f1_scores_gpt_35, width, label='GPT-3.5', color='royalblue')\n",
    "ax.set_xticks([i + width for i in x])\n",
    "ax.set_xticklabels([i for i in range(len(f1_scores))])\n",
    "ax.set_title(\"Comparison of F1 scores (DeBERTa V3)\")\n",
    "ax.legend()\n",
    "\n",
    "plt.show()"
   ]
  },
  {
   "cell_type": "code",
   "execution_count": 51,
   "metadata": {},
   "outputs": [
    {
     "data": {
      "image/png": "[encoded data removed]",
      "text/plain": [
       "<Figure size 1500x500 with 1 Axes>"
      ]
     },
     "metadata": {},
     "output_type": "display_data"
    }
   ],
   "source": [
    "# Plot f1 score\n",
    "f1_scores = results_longformer_gpt4[\"f1\"]\n",
    "f1_scores_gpt_35 = results_longformer_gpt35[\"f1\"]\n",
    "\n",
    "# plot\n",
    "\n",
    "fig, ax = plt.subplots(figsize=(15, 5))\n",
    "\n",
    "width = 0.20\n",
    "x = range(len(f1_scores))\n",
    "\n",
    "ax.bar(x, f1_scores, width, label='GPT-4', color='crimson')\n",
    "ax.bar([i + width for i in x], f1_scores_gpt_35, width, label='GPT-3.5', color='royalblue')\n",
    "ax.set_xticks([i + width for i in x])\n",
    "ax.set_xticklabels([i for i in range(len(f1_scores))])\n",
    "ax.set_title(\"Comparison of F1 scores (Longformer)\")\n",
    "ax.legend()\n",
    "\n",
    "plt.show()"
   ]
  },
  {
   "cell_type": "code",
   "execution_count": 50,
   "metadata": {},
   "outputs": [
    {
     "data": {
      "image/png": "[encoded data removed]",
      "text/plain": [
       "<Figure size 2500x500 with 1 Axes>"
      ]
     },
     "metadata": {},
     "output_type": "display_data"
    }
   ],
   "source": [
    "# Plot f1 score\n",
    "\n",
    "f1_scores = results_gpt4[\"precision\"]\n",
    "f1_scores_gpt_35 = results_gpt_35[\"precision\"]\n",
    "\n",
    "\n",
    "# plot\n",
    "\n",
    "fig, ax = plt.subplots(figsize=(25, 5))\n",
    "\n",
    "width = 0.2\n",
    "x = range(len(f1_scores))\n",
    "\n",
    "ax.bar(x, f1_scores, width, label='GPT-4', color='crimson')\n",
    "ax.bar([i + width for i in x], f1_scores_gpt_35, width, label='GPT-3.5', color='royalblue')\n",
    "ax.set_xticks([i + width for i in x])\n",
    "ax.set_xticklabels([i for i in range(len(f1_scores))])\n",
    "ax.set_title(\"Comparison of precision\")\n",
    "ax.legend()\n",
    "\n",
    "plt.show()"
   ]
  },
  {
   "cell_type": "code",
   "execution_count": 71,
   "metadata": {},
   "outputs": [
    {
     "data": {
      "image/png": "[encoded data removed]",
      "text/plain": [
       "<Figure size 1500x500 with 1 Axes>"
      ]
     },
     "metadata": {},
     "output_type": "display_data"
    }
   ],
   "source": [
    "# Plot f1 score\n",
    "\n",
    "f1_scores = results[\"recall\"]\n",
    "f1_scores_plain = results_plain[\"recall\"]\n",
    "f1_scores_gpt_35 = results_gpt_35[\"recall\"]\n",
    "\n",
    "# plot\n",
    "\n",
    "fig, ax = plt.subplots(figsize=(15, 5))\n",
    "\n",
    "width = 0.20\n",
    "x = range(len(f1_scores))\n",
    "\n",
    "ax.bar(x, f1_scores, width, label='GPT-4', color='crimson')\n",
    "ax.bar([i + width for i in x], f1_scores_plain, width, label='Manual', color='royalblue')\n",
    "ax.bar([i + width*2 for i in x], f1_scores_gpt_35, width, label='GPT-35', color='green')\n",
    "ax.set_xticks([i + width for i in x])\n",
    "ax.set_xticklabels([i for i in range(len(f1_scores))])\n",
    "ax.set_title(\"Comparison of Recall\")\n",
    "ax.legend()\n",
    "\n",
    "plt.show()"
   ]
  },
  {
   "cell_type": "code",
   "execution_count": 54,
   "metadata": {},
   "outputs": [
    {
     "data": {
      "text/plain": [
       "{'precision': [0.6521058678627014,\n",
       "  0.6643224954605103,\n",
       "  0.6281422972679138,\n",
       "  0.6145917177200317,\n",
       "  0.6183218955993652,\n",
       "  0.6424948573112488,\n",
       "  0.6003948450088501,\n",
       "  0.6473554968833923,\n",
       "  0.618371307849884],\n",
       " 'recall': [0.6366236209869385,\n",
       "  0.6235613822937012,\n",
       "  0.62086021900177,\n",
       "  0.6096000671386719,\n",
       "  0.6072510480880737,\n",
       "  0.6156525611877441,\n",
       "  0.5945109128952026,\n",
       "  0.6336020827293396,\n",
       "  0.6214134693145752],\n",
       " 'f1': [0.6442717909812927,\n",
       "  0.6432968974113464,\n",
       "  0.6244800686836243,\n",
       "  0.6120857000350952,\n",
       "  0.6127364635467529,\n",
       "  0.6287873387336731,\n",
       "  0.597438395023346,\n",
       "  0.6404049396514893,\n",
       "  0.6198886632919312],\n",
       " 'hashcode': 'facebook/bart-large-mnli_L11_no-idf_version=0.3.12(hug_trans=4.27.0.dev0)'}"
      ]
     },
     "execution_count": 54,
     "metadata": {},
     "output_type": "execute_result"
    }
   ],
   "source": [
    "results_gpt4"
   ]
  },
  {
   "cell_type": "code",
   "execution_count": 55,
   "metadata": {},
   "outputs": [
    {
     "data": {
      "text/plain": [
       "{'precision': [0.6434116959571838,\n",
       "  0.6135786175727844,\n",
       "  0.6343647241592407,\n",
       "  0.6060109734535217,\n",
       "  0.6336561441421509,\n",
       "  0.6496988534927368,\n",
       "  0.6295475363731384,\n",
       "  0.6321994662284851,\n",
       "  0.6382576823234558],\n",
       " 'recall': [0.5967025756835938,\n",
       "  0.5994625091552734,\n",
       "  0.6074342727661133,\n",
       "  0.6039993166923523,\n",
       "  0.6055898070335388,\n",
       "  0.5703374147415161,\n",
       "  0.602471649646759,\n",
       "  0.6260007619857788,\n",
       "  0.5993726253509521],\n",
       " 'f1': [0.619177520275116,\n",
       "  0.6064384579658508,\n",
       "  0.6206074953079224,\n",
       "  0.6050034761428833,\n",
       "  0.6193051934242249,\n",
       "  0.6074369549751282,\n",
       "  0.61571204662323,\n",
       "  0.6290848851203918,\n",
       "  0.6182042360305786],\n",
       " 'hashcode': 'facebook/bart-large-mnli_L11_no-idf_version=0.3.12(hug_trans=4.27.0.dev0)'}"
      ]
     },
     "execution_count": 55,
     "metadata": {},
     "output_type": "execute_result"
    }
   ],
   "source": [
    "results_gpt_35"
   ]
  },
  {
   "cell_type": "code",
   "execution_count": 56,
   "metadata": {},
   "outputs": [
    {
     "data": {
      "text/plain": [
       "{'precision': [0.6462053656578064,\n",
       "  0.6053144335746765,\n",
       "  0.6204533576965332,\n",
       "  0.6099984645843506,\n",
       "  0.64338618516922,\n",
       "  0.6711529493331909,\n",
       "  0.645161509513855,\n",
       "  0.6248485445976257,\n",
       "  0.6457805633544922],\n",
       " 'recall': [0.5897459983825684,\n",
       "  0.5987589359283447,\n",
       "  0.5825722217559814,\n",
       "  0.5854591727256775,\n",
       "  0.6007969379425049,\n",
       "  0.570181667804718,\n",
       "  0.6058452725410461,\n",
       "  0.6371961832046509,\n",
       "  0.583759069442749],\n",
       " 'f1': [0.6166861057281494,\n",
       "  0.6020188331604004,\n",
       "  0.6009163856506348,\n",
       "  0.5974768996238708,\n",
       "  0.6213626265525818,\n",
       "  0.616560697555542,\n",
       "  0.6248855590820312,\n",
       "  0.6309619545936584,\n",
       "  0.6132055521011353],\n",
       " 'hashcode': 'microsoft/deberta-v3-base_L9_no-idf_version=0.3.12(hug_trans=4.27.0.dev0)'}"
      ]
     },
     "execution_count": 56,
     "metadata": {},
     "output_type": "execute_result"
    }
   ],
   "source": [
    "results_deberta_v3_gpt35"
   ]
  },
  {
   "cell_type": "code",
   "execution_count": 57,
   "metadata": {},
   "outputs": [
    {
     "data": {
      "text/plain": [
       "{'precision': [0.6564638614654541,\n",
       "  0.6562505960464478,\n",
       "  0.6108186841011047,\n",
       "  0.6227301359176636,\n",
       "  0.6037321090698242,\n",
       "  0.6541074514389038,\n",
       "  0.6093407869338989,\n",
       "  0.6502459645271301,\n",
       "  0.6297975778579712],\n",
       " 'recall': [0.6455540060997009,\n",
       "  0.6192583441734314,\n",
       "  0.5882319211959839,\n",
       "  0.6009960174560547,\n",
       "  0.5980139374732971,\n",
       "  0.6075593829154968,\n",
       "  0.5883185267448425,\n",
       "  0.645451545715332,\n",
       "  0.6155847907066345],\n",
       " 'f1': [0.6509631872177124,\n",
       "  0.6372181177139282,\n",
       "  0.5993125438690186,\n",
       "  0.6116700768470764,\n",
       "  0.6008594036102295,\n",
       "  0.6299747824668884,\n",
       "  0.5986452102661133,\n",
       "  0.6478399038314819,\n",
       "  0.6226101517677307],\n",
       " 'hashcode': 'microsoft/deberta-v3-base_L9_no-idf_version=0.3.12(hug_trans=4.27.0.dev0)'}"
      ]
     },
     "execution_count": 57,
     "metadata": {},
     "output_type": "execute_result"
    }
   ],
   "source": [
    "results_deberta_v3_gpt4"
   ]
  },
  {
   "cell_type": "code",
   "execution_count": 58,
   "metadata": {},
   "outputs": [
    {
     "data": {
      "text/plain": [
       "{'precision': [0.8333979249000549,\n",
       "  0.8064426779747009,\n",
       "  0.8295961618423462,\n",
       "  0.8323920965194702,\n",
       "  0.8292905688285828,\n",
       "  0.8503139019012451,\n",
       "  0.8240782618522644,\n",
       "  0.8388121128082275,\n",
       "  0.843914270401001],\n",
       " 'recall': [0.8168718814849854,\n",
       "  0.8134331107139587,\n",
       "  0.8173574805259705,\n",
       "  0.8145012855529785,\n",
       "  0.8110893964767456,\n",
       "  0.8055998682975769,\n",
       "  0.8182771801948547,\n",
       "  0.8319569826126099,\n",
       "  0.8191688060760498],\n",
       " 'f1': [0.8250522017478943,\n",
       "  0.8099228739738464,\n",
       "  0.8234313726425171,\n",
       "  0.8233494758605957,\n",
       "  0.8200889825820923,\n",
       "  0.8273531198501587,\n",
       "  0.8211674690246582,\n",
       "  0.8353704810142517,\n",
       "  0.831357479095459],\n",
       " 'hashcode': 'allenai/longformer-large-4096-finetuned-triviaqa_L14_no-idf_version=0.3.12(hug_trans=4.27.0.dev0)'}"
      ]
     },
     "execution_count": 58,
     "metadata": {},
     "output_type": "execute_result"
    }
   ],
   "source": [
    "results_longformer_gpt35"
   ]
  },
  {
   "cell_type": "code",
   "execution_count": 59,
   "metadata": {},
   "outputs": [
    {
     "data": {
      "text/plain": [
       "{'precision': [0.8425096273422241,\n",
       "  0.8510268926620483,\n",
       "  0.8270114660263062,\n",
       "  0.833105206489563,\n",
       "  0.8274542689323425,\n",
       "  0.8413091897964478,\n",
       "  0.8162148594856262,\n",
       "  0.8387017250061035,\n",
       "  0.8289621472358704],\n",
       " 'recall': [0.8326307535171509,\n",
       "  0.8300791382789612,\n",
       "  0.8257637023925781,\n",
       "  0.8195526599884033,\n",
       "  0.808257520198822,\n",
       "  0.8218235373497009,\n",
       "  0.811801552772522,\n",
       "  0.8303934335708618,\n",
       "  0.8255344033241272],\n",
       " 'f1': [0.8375410437583923,\n",
       "  0.8404224514961243,\n",
       "  0.8263871073722839,\n",
       "  0.8262733817100525,\n",
       "  0.8177432417869568,\n",
       "  0.8314522504806519,\n",
       "  0.8140022158622742,\n",
       "  0.8345268964767456,\n",
       "  0.827244758605957],\n",
       " 'hashcode': 'allenai/longformer-large-4096-finetuned-triviaqa_L14_no-idf_version=0.3.12(hug_trans=4.27.0.dev0)'}"
      ]
     },
     "execution_count": 59,
     "metadata": {},
     "output_type": "execute_result"
    }
   ],
   "source": [
    "results_longformer_gpt4"
   ]
  },
  {
   "cell_type": "code",
   "execution_count": null,
   "metadata": {},
   "outputs": [],
   "source": []
  }
 ],
 "metadata": {
  "kernelspec": {
   "display_name": "Python 3",
   "language": "python",
   "name": "python3"
  },
  "language_info": {
   "codemirror_mode": {
    "name": "ipython",
    "version": 3
   },
   "file_extension": ".py",
   "mimetype": "text/x-python",
   "name": "python",
   "nbconvert_exporter": "python",
   "pygments_lexer": "ipython3",
   "version": "3.10.8"
  }
 },
 "nbformat": 4,
 "nbformat_minor": 2
}
